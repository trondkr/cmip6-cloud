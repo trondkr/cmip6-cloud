{
 "cells": [
  {
   "cell_type": "code",
   "execution_count": 1,
   "metadata": {},
   "outputs": [
    {
     "name": "stdout",
     "output_type": "stream",
     "text": [
      "importing Jupyter notebook from QIN_tools.ipynb\n"
     ]
    }
   ],
   "source": [
    "import numpy as np\n",
    "import pandas as pd\n",
    "import xarray as xr\n",
    "from netCDF4 import num2date\n",
    "import matplotlib.pyplot as plt\n",
    "import cartopy.crs as ccrs\n",
    "import cartopy.feature as cfeature\n",
    "import import_ipynb\n",
    "import regionmask\n",
    "import geopandas as gpd\n",
    "from cartopy.mpl.ticker import LongitudeFormatter, LatitudeFormatter\n",
    "import glob\n",
    "import os\n",
    "\n",
    "# Import other notebooks\n",
    "import QIN_tools"
   ]
  },
  {
   "cell_type": "code",
   "execution_count": 2,
   "metadata": {},
   "outputs": [
    {
     "data": {
      "text/html": [
       "<table style=\"border: 2px solid white;\">\n",
       "<tr>\n",
       "<td style=\"vertical-align: top; border: 0px solid white\">\n",
       "<h3 style=\"text-align: left;\">Client</h3>\n",
       "<ul style=\"text-align: left; list-style: none; margin: 0; padding: 0;\">\n",
       "  <li><b>Scheduler: </b>tcp://127.0.0.1:38653</li>\n",
       "  <li><b>Dashboard: </b><a href='/user/trondkr/proxy/8787/status' target='_blank'>/user/trondkr/proxy/8787/status</a></li>\n",
       "</ul>\n",
       "</td>\n",
       "<td style=\"vertical-align: top; border: 0px solid white\">\n",
       "<h3 style=\"text-align: left;\">Cluster</h3>\n",
       "<ul style=\"text-align: left; list-style:none; margin: 0; padding: 0;\">\n",
       "  <li><b>Workers: </b>4</li>\n",
       "  <li><b>Cores: </b>16</li>\n",
       "  <li><b>Memory: </b>63.33 GB</li>\n",
       "</ul>\n",
       "</td>\n",
       "</tr>\n",
       "</table>"
      ],
      "text/plain": [
       "<Client: 'tcp://127.0.0.1:38653' processes=4 threads=16, memory=63.33 GB>"
      ]
     },
     "execution_count": 2,
     "metadata": {},
     "output_type": "execute_result"
    }
   ],
   "source": [
    "from dask.distributed import Client\n",
    "client = Client()\n",
    "client"
   ]
  },
  {
   "cell_type": "markdown",
   "metadata": {},
   "source": [
    "# GLORYS12V1 \n",
    "This is a notebook for calculating cliamtology from GLORYS12V1 data available from copernicus.eu (https://www.copernicus.eu)\n",
    "\n",
    ">**The GLORYS12V1 product** is the CMEMS global ocean eddy-resolving (1/12° horizontal resolution and 50 vertical levels) >reanalysis covering the altimetry era 1993-2018. It is based largely on the current real-time global forecasting CMEMS system. The >model component is the NEMO platform driven at the surface by ECMWF ERA-Interim reanalysis. Observations are assimilated by means >of a reduced-order Kalman filter. Along track altimeter data (Sea Level Anomaly), satellite Sea Surface Temperature, Sea Ice >Concentration and in situ temperature and salinity vertical profiles are jointly assimilated. Moreover, a 3D-VAR scheme provides a >correction for the slowly-evolving large-scale biases in temperature and salinity.This product includes daily and monthly mean >files of temperature, salinity, currents, sea level, mixed layer depth and ice parameters from the top to the bottom. The global >ocean output files are displayed on a standard regular grid at 1/12° (approximatively 8 km) and on 50 standard levels.\n",
    "\n",
    "*The goal of this notebook is to:*\n",
    " - Calculate monthly climatology for period 1993-2018\n",
    " - Calculate monthly anomalies\n",
    " - Calculate seasonal climatology and anomaly\n",
    " - Save climatology as netcdf file\n",
    " \n",
    " We use some functions from here: http://xarray.pydata.org/en/stable/examples/monthly-means.html\n",
    " and here:\n",
    " http://www.matteodefelice.name/post/aggregating-gridded-data/"
   ]
  },
  {
   "cell_type": "code",
   "execution_count": 3,
   "metadata": {},
   "outputs": [
    {
     "name": "stdout",
     "output_type": "stream",
     "text": [
      "CPU times: user 2 µs, sys: 1 µs, total: 3 µs\n",
      "Wall time: 6.2 µs\n",
      "<xarray.Dataset>\n",
      "Dimensions:    (depth: 50, latitude: 2041, longitude: 4320, time: 312)\n",
      "Coordinates:\n",
      "  * latitude   (latitude) float32 -80.0 -79.916664 -79.833336 ... 89.916664 90.0\n",
      "  * longitude  (longitude) float32 -180.0 -179.91667 ... 179.83331 179.91669\n",
      "  * depth      (depth) float32 0.494025 1.541375 2.645669 ... 5274.784 5727.917\n",
      "  * time       (time) datetime64[ns] 1993-01-16T12:00:00 ... 2018-12-16T12:00:00\n",
      "Data variables:\n",
      "    mlotst     (time, latitude, longitude) float32 dask.array<chunksize=(1, 250, 250), meta=np.ndarray>\n",
      "    zos        (time, latitude, longitude) float32 dask.array<chunksize=(1, 250, 250), meta=np.ndarray>\n",
      "    bottomT    (time, latitude, longitude) float32 dask.array<chunksize=(1, 250, 250), meta=np.ndarray>\n",
      "    sithick    (time, latitude, longitude) float32 dask.array<chunksize=(1, 250, 250), meta=np.ndarray>\n",
      "    siconc     (time, latitude, longitude) float32 dask.array<chunksize=(1, 250, 250), meta=np.ndarray>\n",
      "    usi        (time, latitude, longitude) float32 dask.array<chunksize=(1, 250, 250), meta=np.ndarray>\n",
      "    vsi        (time, latitude, longitude) float32 dask.array<chunksize=(1, 250, 250), meta=np.ndarray>\n",
      "    thetao     (time, depth, latitude, longitude) float32 dask.array<chunksize=(1, 50, 250, 250), meta=np.ndarray>\n",
      "    so         (time, depth, latitude, longitude) float32 dask.array<chunksize=(1, 50, 250, 250), meta=np.ndarray>\n",
      "    uo         (time, depth, latitude, longitude) float32 dask.array<chunksize=(1, 50, 250, 250), meta=np.ndarray>\n",
      "    vo         (time, depth, latitude, longitude) float32 dask.array<chunksize=(1, 50, 250, 250), meta=np.ndarray>\n",
      "Attributes:\n",
      "    title:                         Monthly mean fields for product GLOBAL_REA...\n",
      "    references:                    http://marine.copernicus.eu\n",
      "    credit:                        E.U. Copernicus Marine Service Information...\n",
      "    licence:                       http://marine.copernicus.eu/services-portf...\n",
      "    contact:                       servicedesk.cmems@mercator-ocean.eu\n",
      "    producer:                      CMEMS - Global Monitoring and Forecasting ...\n",
      "    institution:                   Mercator Ocean\n",
      "    Conventions:                   CF-1.6\n",
      "    area:                          GLOBAL\n",
      "    product:                       GLOBAL_REANALYSIS_001_030\n",
      "    dataset:                       global-reanalysis-001-030-monthly\n",
      "    source:                        MERCATOR GLORYS12V1\n",
      "    product_user_manual:           http://marine.copernicus.eu/documents/PUM/...\n",
      "    quality_information_document:  http://marine.copernicus.eu/documents/QUID...\n"
     ]
    }
   ],
   "source": [
    "%time\n",
    "# The baseURL for where all monthly data are stored yearly\n",
    "basepath = \"../../oceanography/GLORYS12V1/my.cmems-du.eu/Core/GLOBAL_REANALYSIS_PHY_001_030/global-reanalysis-phy-001-030-monthly\"\n",
    "\n",
    "# Read all of the GLORYS12V1 monthly data into a dataset.\n",
    "list_of_paths = glob.glob(basepath + \"/**/*.nc\", recursive=True)\n",
    "d = xr.open_mfdataset(\n",
    "    list_of_paths,\n",
    "    combine=\"by_coords\",\n",
    "    chunks={\"latitude\": 250, \"longitude\": 250, \"time\": -1},\n",
    ")\n",
    "ds = d.assign_coords(longitude=(((d.longitude + 180) % 360) - 180)).sortby(\"longitude\")\n",
    "print(ds)"
   ]
  },
  {
   "cell_type": "code",
   "execution_count": 4,
   "metadata": {},
   "outputs": [],
   "source": [
    "month_length = xr.DataArray(\n",
    "    QIN_tools.get_dpm(ds.time.to_index(), calendar=\"noleap\"),\n",
    "    coords=[ds.time],\n",
    "    name=\"month_length\",\n",
    ")\n",
    "\n",
    "# Calculate the weights by grouping by 'time.season'.\n",
    "# Conversion to float type ('astype(float)') only necessary for Python 2.x\n",
    "weights = (\n",
    "    month_length.groupby(\"time.season\")\n",
    "    / month_length.astype(float).groupby(\"time.season\").sum()\n",
    ")\n",
    "\n",
    "# Test that the sum of the weights for each season is 1.0\n",
    "np.testing.assert_allclose(weights.groupby(\"time.season\").sum().values, np.ones(4))\n",
    "\n",
    "# Calculate the weighted average\n",
    "ds_weighted = (ds * weights).groupby(\"time.season\").sum(dim=\"time\")"
   ]
  },
  {
   "cell_type": "code",
   "execution_count": 5,
   "metadata": {},
   "outputs": [
    {
     "name": "stdout",
     "output_type": "stream",
     "text": [
      "<xarray.Dataset>\n",
      "Dimensions:    (depth: 50, latitude: 2041, longitude: 4320, season: 4)\n",
      "Coordinates:\n",
      "  * latitude   (latitude) float32 -80.0 -79.916664 -79.833336 ... 89.916664 90.0\n",
      "  * longitude  (longitude) float32 -180.0 -179.91667 ... 179.83331 179.91669\n",
      "  * depth      (depth) float32 0.494025 1.541375 2.645669 ... 5274.784 5727.917\n",
      "  * season     (season) object 'DJF' 'JJA' 'MAM' 'SON'\n",
      "Data variables:\n",
      "    mlotst     (season, latitude, longitude) float64 dask.array<chunksize=(1, 250, 250), meta=np.ndarray>\n",
      "    zos        (season, latitude, longitude) float64 dask.array<chunksize=(1, 250, 250), meta=np.ndarray>\n",
      "    bottomT    (season, latitude, longitude) float64 dask.array<chunksize=(1, 250, 250), meta=np.ndarray>\n",
      "    sithick    (season, latitude, longitude) float64 dask.array<chunksize=(1, 250, 250), meta=np.ndarray>\n",
      "    siconc     (season, latitude, longitude) float64 dask.array<chunksize=(1, 250, 250), meta=np.ndarray>\n",
      "    usi        (season, latitude, longitude) float64 dask.array<chunksize=(1, 250, 250), meta=np.ndarray>\n",
      "    vsi        (season, latitude, longitude) float64 dask.array<chunksize=(1, 250, 250), meta=np.ndarray>\n",
      "    thetao     (season, depth, latitude, longitude) float64 dask.array<chunksize=(1, 50, 250, 250), meta=np.ndarray>\n",
      "    so         (season, depth, latitude, longitude) float64 dask.array<chunksize=(1, 50, 250, 250), meta=np.ndarray>\n",
      "    uo         (season, depth, latitude, longitude) float64 dask.array<chunksize=(1, 50, 250, 250), meta=np.ndarray>\n",
      "    vo         (season, depth, latitude, longitude) float64 dask.array<chunksize=(1, 50, 250, 250), meta=np.ndarray>\n"
     ]
    }
   ],
   "source": [
    "print(ds_weighted)\n",
    "climatology = ds.groupby(\"time.month\").mean(\"time\", keep_attrs=True)\n",
    "ds_anomaly = ds.groupby(\"time.month\") - climatology"
   ]
  },
  {
   "cell_type": "markdown",
   "metadata": {},
   "source": [
    "# Mask region\n"
   ]
  },
  {
   "cell_type": "code",
   "execution_count": 6,
   "metadata": {},
   "outputs": [
    {
     "name": "stdout",
     "output_type": "stream",
     "text": [
      "   OBJECTID  LME_NUMBER                 LME_NAME  Shape_Leng  Shape_Area  \\\n",
      "0         1        23.0               Baltic Sea  219.326402   61.950021   \n",
      "1         2        52.0           Sea of Okhotsk  145.932989  213.796584   \n",
      "2         3        22.0                North Sea  209.486403  103.965247   \n",
      "3         4         2.0           Gulf of Alaska  468.695688  203.793868   \n",
      "4         5         9.0  Labrador - Newfoundland  270.847479  114.597691   \n",
      "\n",
      "                                            geometry  \n",
      "0  POLYGON ((10.97944 54.38055, 10.98611 54.37805...  \n",
      "1  POLYGON ((156.70705 51.18858, 156.62592 51.160...  \n",
      "2  POLYGON ((5.27889 61.98027, 5.24917 61.97388, ...  \n",
      "3  POLYGON ((-124.59823 47.90313, -125.85582 47.0...  \n",
      "4  MULTIPOLYGON (((-64.56793 60.45509, -60.09442 ...  \n"
     ]
    }
   ],
   "source": [
    "# Load the shapefile\n",
    "lme_file = \"../data/LME/LME66.shp\"\n",
    "lmes = gpd.read_file(lme_file)\n",
    "print(lmes.head())"
   ]
  },
  {
   "cell_type": "code",
   "execution_count": 7,
   "metadata": {},
   "outputs": [],
   "source": [
    "lmes_mask_poly = regionmask.Regions(\n",
    "    name=\"lme_mask\",\n",
    "    numbers=list(range(0, 66)),\n",
    "    names=list(lmes.LME_NAME),\n",
    "    abbrevs=list(lmes.LME_NAME),\n",
    "    outlines=list(lmes.geometry.values[i] for i in range(0, 66)),\n",
    ")"
   ]
  },
  {
   "cell_type": "code",
   "execution_count": 8,
   "metadata": {},
   "outputs": [],
   "source": [
    "mask = lmes_mask_poly.mask(\n",
    "    climatology.sel(latitude=slice(0, 90), longitude=slice(-180, -100)),\n",
    "    lat_name=\"latitude\",\n",
    "    lon_name=\"longitude\",\n",
    ")"
   ]
  },
  {
   "cell_type": "code",
   "execution_count": 9,
   "metadata": {},
   "outputs": [
    {
     "data": {
      "text/plain": [
       "<matplotlib.axes._subplots.AxesSubplot at 0x7f899f5d5590>"
      ]
     },
     "execution_count": 9,
     "metadata": {},
     "output_type": "execute_result"
    },
    {
     "data": {
      "image/png": "[encoded data removed]",
      "text/plain": [
       "<Figure size 864x576 with 2 Axes>"
      ]
     },
     "metadata": {
      "needs_background": "light"
     },
     "output_type": "display_data"
    }
   ],
   "source": [
    "plt.figure(figsize=(12, 8))\n",
    "ax = plt.axes()\n",
    "mask.plot(ax=ax)\n",
    "lmes.plot(ax=ax, alpha=0.8, facecolor=\"none\", lw=1)"
   ]
  },
  {
   "cell_type": "code",
   "execution_count": 10,
   "metadata": {},
   "outputs": [],
   "source": [
    "def get_lme_id(lme_name):\n",
    "    LME_REGION = [\n",
    "        (i, name) for i, name in enumerate(lmes[\"LME_NAME\"]) if name == lme_name\n",
    "    ]\n",
    "    print(\"Mask covers LME {} at index {}\".format(LME_REGION[0][1], LME_REGION[0][0]))\n",
    "    return LME_REGION[0][0]"
   ]
  },
  {
   "cell_type": "code",
   "execution_count": 11,
   "metadata": {},
   "outputs": [
    {
     "name": "stdout",
     "output_type": "stream",
     "text": [
      "Mask covers LME California Current at index 9\n",
      "Mask covers LME Gulf of Alaska at index 3\n"
     ]
    }
   ],
   "source": [
    "cal_ID = get_lme_id(\"California Current\")\n",
    "goa_ID = get_lme_id(\"Gulf of Alaska\")\n",
    "\n",
    "lat = mask.latitude.values\n",
    "lon = mask.longitude.values\n",
    "\n",
    "# [print(i,name) for i,name in enumerate(lmes[\"LME_NAME\"])]\n",
    "\n",
    "sel_mask = mask.where((mask == cal_ID) | (mask == goa_ID)).values\n",
    "\n",
    "id_lon = lon[np.where(~np.all(np.isnan(sel_mask), axis=0))]\n",
    "id_lat = lat[np.where(~np.all(np.isnan(sel_mask), axis=1))]"
   ]
  },
  {
   "cell_type": "code",
   "execution_count": null,
   "metadata": {},
   "outputs": [
    {
     "name": "stderr",
     "output_type": "stream",
     "text": [
      "distributed.nanny - WARNING - Worker process still alive after 3 seconds, killing\n",
      "distributed.nanny - WARNING - Restarting worker\n"
     ]
    }
   ],
   "source": [
    "%%time\n",
    "def save_climatology(climatology,varname_to_file, varname, depth_index=None):\n",
    "    \n",
    "    if varname in [\"thetao\", \"so\"]:\n",
    "        out_selected = climatology[varname].sel(latitude = slice(id_lat[0], id_lat[-1]), longitude = slice(id_lon[0], id_lon[-1])).isel(depth=depth_index).squeeze().compute().where(\n",
    "    (mask == goa_ID) | (mask == cal_ID))\n",
    "    else:\n",
    "        out_selected = climatology[varname].sel(latitude = slice(id_lat[0], id_lat[-1]), longitude = slice(id_lon[0], id_lon[-1])).compute().where(\n",
    "    (mask == goa_ID) | (mask == cal_ID))\n",
    "    # Write to file\n",
    "    coords = {\n",
    "        \"month\": out_selected.month.values,\n",
    "        \"latitude\": out_selected.latitude.values,\n",
    "        \"longitude\": out_selected.longitude.values,\n",
    "    }\n",
    "    data_array = xr.DataArray(\n",
    "        name=varname_to_file,\n",
    "        data=out_selected,\n",
    "        coords=coords,\n",
    "        dims=[\"month\", \"latitude\", \"longitude\"],\n",
    "    )\n",
    "    result_file = \"../../oceanography/QIN/ncfiles/{}_climatology_glorys12v1.nc\".format(varname_to_file)\n",
    "    if not os.path.exists(\"ncfiles\"):\n",
    "        os.mkdir(\"ncfiles\")\n",
    "    if os.path.exists(result_file):\n",
    "        os.remove(result_file)\n",
    "    data_array.to_netcdf(result_file, \"w\")\n",
    "                          \n",
    "save_climatology(climatology,\"sst\", \"thetao\", 1)\n",
    "save_climatology(climatology,\"bottomT\", \"bottomT\")\n",
    "save_climatology(climatology,\"sss\", \"so\", 1)\n",
    "save_climatology(climatology,\"bottomS\", \"so\", 50)"
   ]
  },
  {
   "cell_type": "code",
   "execution_count": null,
   "metadata": {},
   "outputs": [],
   "source": [
    "def get_WOA(varname):\n",
    "\n",
    "    base_url = \"https://data.nodc.noaa.gov/thredds/dodsC/ncei/woa/oxygen/all/1.00/woa18_all_o\"\n",
    "\n",
    "    files = [\"{}{:02d}_01.nc\".format(base_url, month) for month in range(1, 13)]\n",
    "\n",
    "    print(files)\n",
    "    d = xr.open_mfdataset(\n",
    "        files,\n",
    "        combine=\"by_coords\",decode_times=False,\n",
    "    )\n",
    "    print(d)\n",
    "    ds = d.assign_coords(lon=(((d.lon + 180) % 360) - 180)).sortby(\n",
    "        \"lon\"\n",
    "    )\n",
    "    print(ds)\n",
    "\n",
    "\n",
    "get_WOA(\"oxygen\")"
   ]
  },
  {
   "cell_type": "code",
   "execution_count": null,
   "metadata": {},
   "outputs": [],
   "source": [
    "plt.figure(figsize=(12, 8))\n",
    "proj = ccrs.PlateCarree()\n",
    "ax = plt.axes(projection=proj)\n",
    "cmap = plt.cm.get_cmap(\"RdBu_r\")\n",
    "out_sel.bottomT.isel(month=6).plot(ax=ax, cmap=cmap)\n",
    "# lmes.plot(ax = ax, alpha = 0.8, facecolor = 'none')\n",
    "land_10m = cfeature.NaturalEarthFeature(\"physical\", \"land\", \"10m\")\n",
    "ax.add_feature(land_10m, color=\"lightgrey\", edgecolor=None, zorder=4)\n",
    "ax.coastlines(resolution=\"10m\", linewidth=1, color=\"black\", alpha=1, zorder=5)\n",
    "\n",
    "ldom = np.array([[45, 49], [-126, -123]])\n",
    "ax.set_extent([ldom[1, 0], ldom[1, 1], ldom[0, 0], ldom[0, 1]], crs=ccrs.PlateCarree())\n",
    "ax.set_xticks([*range(ldom[1, 0], ldom[1, 1] + 1, 1)], crs=ccrs.PlateCarree())\n",
    "ax.set_yticks([*range(ldom[0, 0], ldom[0, 1] + 1, 1)], crs=ccrs.PlateCarree())\n",
    "ax.xaxis.set_major_formatter(LongitudeFormatter(zero_direction_label=True))\n",
    "ax.yaxis.set_major_formatter(LatitudeFormatter())\n",
    "plt.grid(True, zorder=1, alpha=0.5)\n",
    "qbox = np.array(\n",
    "    [[-124.5, -124, -124.3, -124.8, -124.5], [46.5, 46.5, 47.5, 47.5, 46.5]]\n",
    ")\n",
    "plt.plot(qbox[0, :], qbox[1, :], c=\"r\", lw=2, zorder=5, alpha=0.7)"
   ]
  },
  {
   "cell_type": "code",
   "execution_count": null,
   "metadata": {},
   "outputs": [],
   "source": [
    "# get bathymetry from ETOPO1\n",
    "fname_topo = \"../../oceanography/ETOPO1/ETOPO1_Ice_g_gmt4.grd\"\n",
    "ds_topo = xr.open_dataset(fname_topo)\n",
    "ds_topo.close()\n",
    "topo = ds_topo.z  # (10801, 21601)\n",
    "topo2 = topo.sel(y=slice(ldom[0, 0], ldom[0, 1]), x=slice(ldom[1, 0], ldom[1, 1]))\n",
    "x = topo2.x  # 21601\n",
    "y = topo2.y  # 10801\n",
    "X, Y = np.meshgrid(x, y)"
   ]
  },
  {
   "cell_type": "code",
   "execution_count": null,
   "metadata": {},
   "outputs": [],
   "source": [
    "# monthly - climatology\n",
    "months = [\n",
    "    \"January\",\n",
    "    \"February\",\n",
    "    \"March\",\n",
    "    \"April\",\n",
    "    \"May\",\n",
    "    \"June\",\n",
    "    \"July\",\n",
    "    \"August\",\n",
    "    \"September\",\n",
    "    \"October\",\n",
    "    \"November\",\n",
    "    \"December\",\n",
    "]\n",
    "# datax,datay=np.meshgrid(ds.lon.values,ds.lat.values)\n",
    "\n",
    "lev = np.arange(6, 18, 0.5)\n",
    "fig = plt.figure(figsize=(12, 12), dpi=150)\n",
    "for i in range(12):\n",
    "\n",
    "    ax = fig.add_subplot(3, 4, i + 1, projection=ccrs.PlateCarree())\n",
    "    ax.coastlines(resolution=\"10m\", linewidth=1.5, color=\"black\", alpha=0.8, zorder=4)\n",
    "    ax.set_extent(\n",
    "        [ldom[1, 0], ldom[1, 1], ldom[0, 0], ldom[0, 1]], crs=ccrs.PlateCarree()\n",
    "    )\n",
    "    ax.set_xticks([*range(ldom[1, 0], ldom[1, 1] + 1, 1)], crs=ccrs.PlateCarree())\n",
    "    ax.set_yticks([*range(ldom[0, 0], ldom[0, 1] + 1, 1)], crs=ccrs.PlateCarree())\n",
    "    ax.xaxis.set_major_formatter(LongitudeFormatter(zero_direction_label=True))\n",
    "    ax.yaxis.set_major_formatter(LatitudeFormatter())\n",
    "    plt.grid(True, zorder=0, alpha=0.5)\n",
    "    # ax.set_aspect(1.5)\n",
    "    plt.contour(\n",
    "        X,\n",
    "        Y,\n",
    "        topo2,\n",
    "        [-5000, -2000, -1000, -500, -200, -100, -50],\n",
    "        colors=\"k\",\n",
    "        linewidths=0.5,\n",
    "        linestyles=\"solid\",\n",
    "        zorder=3,\n",
    "        alpha=0.8,\n",
    "    )\n",
    "    # print(\"Mean for month {} = {}\".format(months[i],isel(month = i).mean()))\n",
    "    print(climatology.thetao.isel(month=i, depth=0).squeeze())\n",
    "    plt.contourf(\n",
    "        climatology.longitude,\n",
    "        climatology.latitude,\n",
    "        climatology.thetao.isel(month=i, depth=0).squeeze(),\n",
    "        levels=lev,\n",
    "        cmap=\"RdBu_r\",\n",
    "        zorder=2,\n",
    "        alpha=0.9,\n",
    "        extend=\"both\",\n",
    "    )\n",
    "    plt.colorbar(\n",
    "        fraction=0.03,\n",
    "        orientation=\"horizontal\",\n",
    "        ticks=[*range(int(lev[0]), int(lev[-1]) + 1, 2)],\n",
    "    )\n",
    "    plt.plot(qbox[0, :], qbox[1, :], c=\"r\", lw=2, zorder=5, alpha=0.7)\n",
    "    plt.title(months[i])\n",
    "\n",
    "# plt.colorbar(fraction=0.06, pad=0.04)\n",
    "plt.tight_layout(h_pad=1)\n",
    "\n",
    "plt.savefig(\"./bottomT_monthly_clim_glorys12v1.png\")\n",
    "plt.show()"
   ]
  },
  {
   "cell_type": "code",
   "execution_count": null,
   "metadata": {},
   "outputs": [],
   "source": [
    "def create_plots(ds2020, ds2050):  # only used for comparisons\n",
    "\n",
    "    ds_diff = ds2050 - ds2020\n",
    "\n",
    "    notnull = pd.notnull(ds2050[\"chl\"][0])\n",
    "    land_110m = cfeature.NaturalEarthFeature(\"physical\", \"land\", \"110m\")\n",
    "    proj = ccrs.PlateCarree()\n",
    "    extent = [-20, 20, 50, 80]\n",
    "\n",
    "    fig, axes = plt.subplots(\n",
    "        nrows=4, ncols=3, figsize=(14, 16), subplot_kw={\"projection\": proj}\n",
    "    )\n",
    "    for i, season in enumerate((\"DJF\", \"MAM\", \"JJA\", \"SON\")):\n",
    "        ds2020[\"chl\"].sel(season=season).where(notnull).plot.pcolormesh(\n",
    "            ax=axes[i, 0],\n",
    "            cmap=\"Spectral_r\",\n",
    "            transform=ccrs.PlateCarree(),  # vmin=-30, vmax=30, cmap='Spectral_r',\n",
    "            add_colorbar=True,\n",
    "            extend=\"both\",\n",
    "        )\n",
    "        axes[i, 0].set_extent(extent, crs=proj)\n",
    "        axes[i, 0].add_feature(land_110m, color=\"lightgrey\")\n",
    "        axes[i, 0].add_feature(cfeature.COASTLINE, edgecolor=\"black\")\n",
    "        axes[i, 0].add_feature(cfeature.BORDERS, linestyle=\":\")\n",
    "\n",
    "        ds2050[\"chl\"].sel(season=season).where(notnull).plot.pcolormesh(\n",
    "            ax=axes[i, 1],\n",
    "            cmap=\"Spectral_r\",\n",
    "            transform=ccrs.PlateCarree(),  # vmin=-30, vmax=30, cmap='Spectral_r',\n",
    "            add_colorbar=True,\n",
    "            extend=\"both\",\n",
    "        )\n",
    "        axes[i, 1].set_extent(extent, crs=proj)\n",
    "        axes[i, 1].add_feature(land_110m, color=\"lightgrey\")\n",
    "        axes[i, 1].add_feature(cfeature.COASTLINE, edgecolor=\"black\")\n",
    "        axes[i, 1].add_feature(cfeature.BORDERS, linestyle=\":\")\n",
    "\n",
    "        ds_diff[\"chl\"].sel(season=season).where(notnull).plot.pcolormesh(\n",
    "            ax=axes[i, 2],\n",
    "            cmap=\"Spectral_r\",\n",
    "            transform=ccrs.PlateCarree(),  # vmin=-0.1, vmax=.1, cmap='RdBu_r',\n",
    "            add_colorbar=True,\n",
    "            extend=\"both\",\n",
    "        )\n",
    "        axes[i, 2].set_extent(extent, crs=proj)\n",
    "        axes[i, 2].add_feature(land_110m, color=\"lightgrey\")\n",
    "        axes[i, 2].add_feature(cfeature.COASTLINE, edgecolor=\"black\")\n",
    "        axes[i, 2].add_feature(cfeature.BORDERS, linestyle=\":\")\n",
    "\n",
    "        axes[i, 0].set_ylabel(season)\n",
    "        axes[i, 1].set_ylabel(\"\")\n",
    "        axes[i, 2].set_ylabel(\"\")\n",
    "\n",
    "    for ax in axes.flat:\n",
    "        ax.axes.get_xaxis().set_ticklabels([])\n",
    "        ax.axes.get_yaxis().set_ticklabels([])\n",
    "        ax.axes.axis(\"tight\")\n",
    "        ax.set_xlabel(\"\")\n",
    "\n",
    "    axes[0, 0].set_title(\"ds2020\")\n",
    "    axes[0, 1].set_title(\"ds2050\")\n",
    "    axes[0, 2].set_title(\"Difference\")\n",
    "\n",
    "    plt.tight_layout()\n",
    "\n",
    "    fig.suptitle(\"Seasonal Chlorophyll\", fontsize=16, y=1.02)\n",
    "    plt.show()"
   ]
  },
  {
   "cell_type": "code",
   "execution_count": null,
   "metadata": {},
   "outputs": [],
   "source": []
  },
  {
   "cell_type": "code",
   "execution_count": null,
   "metadata": {},
   "outputs": [],
   "source": []
  },
  {
   "cell_type": "code",
   "execution_count": null,
   "metadata": {},
   "outputs": [],
   "source": [
    "def season_mean(ds, calendar=\"standard\"):\n",
    "    # Make a DataArray of season/year groups\n",
    "    year_season = xr.DataArray(\n",
    "        ds.time.to_index().to_period(freq=\"Q-NOV\").to_timestamp(how=\"E\"),\n",
    "        coords=[ds.time],\n",
    "        name=\"year_season\",\n",
    "    )\n",
    "\n",
    "    # Make a DataArray with the number of days in each month, size = len(time)\n",
    "    month_length = xr.DataArray(\n",
    "        get_dpm(ds.time.to_index(), calendar=calendar),\n",
    "        coords=[ds.time],\n",
    "        name=\"month_length\",\n",
    "    )\n",
    "    # Calculate the weights by grouping by 'time.season'\n",
    "    weights = (\n",
    "        month_length.groupby(\"time.season\") / month_length.groupby(\"time.season\").sum()\n",
    "    )\n",
    "\n",
    "    # Test that the sum of the weights for each season is 1.0\n",
    "    np.testing.assert_allclose(weights.groupby(\"time.season\").sum().values, np.ones(4))\n",
    "\n",
    "    # Calculate the weighted average\n",
    "    return np.log((ds * weights).groupby(\"time.season\").sum(dim=\"time\"))"
   ]
  },
  {
   "cell_type": "code",
   "execution_count": null,
   "metadata": {},
   "outputs": [],
   "source": []
  }
 ],
 "metadata": {
  "kernelspec": {
   "display_name": "Python 3",
   "language": "python",
   "name": "python3"
  },
  "language_info": {
   "codemirror_mode": {
    "name": "ipython",
    "version": 3
   },
   "file_extension": ".py",
   "mimetype": "text/x-python",
   "name": "python",
   "nbconvert_exporter": "python",
   "pygments_lexer": "ipython3",
   "version": "3.7.4"
  }
 },
 "nbformat": 4,
 "nbformat_minor": 4
}
