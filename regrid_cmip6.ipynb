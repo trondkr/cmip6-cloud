{
 "cells": [
  {
   "cell_type": "code",
   "execution_count": 1,
   "metadata": {},
   "outputs": [
    {
     "data": {
      "text/plain": [
       "ESMPyManager:\n",
       "    local_pet = 0\n",
       "    pet_count = 1\n",
       ")"
      ]
     },
     "execution_count": 1,
     "metadata": {},
     "output_type": "execute_result"
    }
   ],
   "source": [
    "import xesmf as xe\n",
    "import ESMF\n",
    "ESMF.Manager(debug=True)"
   ]
  },
  {
   "cell_type": "markdown",
   "metadata": {},
   "source": [
    "See trick to make xesmf work with difficult grid points\n",
    "https://nbviewer.jupyter.org/gist/bradyrx/421627385666eefdb0a20567c2da9976"
   ]
  },
  {
   "cell_type": "code",
   "execution_count": 4,
   "metadata": {},
   "outputs": [],
   "source": [
    "def regrid_variable(varname, ds_in, ds_out, transpose=True):\n",
    "    regridder = xe.Regridder(ds_in, ds_out, 'bilinear', reuse_weights=False, ignore_degenerate=True)\n",
    "    regridder._grid_in = None\n",
    "    regridder._grid_out = None\n",
    "    if transpose:\n",
    "        return regridder(ds_in[varname].T)\n",
    "    else:\n",
    "        return regridder(ds_in[varname])"
   ]
  },
  {
   "cell_type": "code",
   "execution_count": null,
   "metadata": {},
   "outputs": [],
   "source": []
  }
 ],
 "metadata": {
  "kernelspec": {
   "display_name": "Python 3",
   "language": "python",
   "name": "python3"
  },
  "language_info": {
   "codemirror_mode": {
    "name": "ipython",
    "version": 3
   },
   "file_extension": ".py",
   "mimetype": "text/x-python",
   "name": "python",
   "nbconvert_exporter": "python",
   "pygments_lexer": "ipython3",
   "version": "3.7.4"
  }
 },
 "nbformat": 4,
 "nbformat_minor": 4
}
