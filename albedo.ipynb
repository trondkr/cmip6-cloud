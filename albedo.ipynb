{
 "cells": [
  {
   "cell_type": "code",
   "execution_count": 4,
   "metadata": {},
   "outputs": [],
   "source": [
    "import math\n",
    "import matplotlib.pyplot as plt\n",
    "import pandas as pd\n",
    "import numpy as np\n",
    "import sys\n",
    "import dask"
   ]
  },
  {
   "cell_type": "markdown",
   "metadata": {},
   "source": [
    "# Calculate Ocean Surface Albedo v1.0\n",
    "This is  notebook for calculating ocean surface albedo (OSA) using the approach described in [Roland Seferian et al. 2018](https://www.geosci-model-dev.net/11/321/2018/gmd-11-321-2018.pdf). This improved albedo scheme for the ocean accounts for surface roughness due to wind and waves (whitecap), chlorophyll, backscattering from particles, and estimates both the direct and diffuse components of the albedo."
   ]
  },
  {
   "cell_type": "markdown",
   "metadata": {},
   "source": [
    "## Theoretical Fresnel reflection for two mediums\n",
    "The reflection of incoming solar radiation to a new medium is determined by the refractive indices of the two mediums and the angle of the light. For air and water these indices are 1.0 and 1.34 while the angle is the zenith angle. The following theretical example uses a plane surface between the air and water."
   ]
  },
  {
   "cell_type": "code",
   "execution_count": 5,
   "metadata": {},
   "outputs": [],
   "source": [
    "# https://en.wikipedia.org/wiki/Fresnel_equations\n",
    "# https://computergraphics.stackexchange.com/questions/5182/fresnel-equation-with-incident-angle-n-and-k-as-input\n",
    "# http://www.oceanopticsbook.info/view/surfaces/the_level_sea_surface#fig:ReflTrans\n",
    "def fresnel(n,theta_deg,k):\n",
    "    theta = math.radians(theta_deg)\n",
    "\n",
    "    a = math.sqrt((math.sqrt((n**2-k**2-(math.sin(theta))**2)**2 +\n",
    "                                 ((4 * n**2) * k**2)) + (n**2 - k**2 -\n",
    "                                            (math.sin(theta))**2))/2)\n",
    "\n",
    "    b = math.sqrt((math.sqrt((n**2-k**2-(math.sin(theta))**2)**2 +\n",
    "                                 ((4 * n**2) * k**2)) - (n**2 - k**2 -\n",
    "                                            (math.sin(theta))**2))/2)\n",
    "\n",
    "    Fs = (a**2+b**2-(2 * a * math.cos(theta))+\n",
    "              (math.cos(theta))**2)/(a**2+b**2 +\n",
    "                            (2 * a * math.cos(theta))+(math.cos(theta))**2)\n",
    "\n",
    "    Fp = Fs * ((a**2+b**2 -\n",
    "                    (2 * a * math.sin(theta) * math.tan(theta)) +\n",
    "                    (math.sin(theta))**2*(math.tan(theta))**2)/(a**2+b**2 +\n",
    "                    (2 * a * math.sin(theta) * math.tan(theta)) +\n",
    "                    (math.sin(theta))**2*(math.tan(theta))**2))\n",
    "\n",
    "    R = (Fs + Fp)/2.\n",
    "    return R"
   ]
  },
  {
   "cell_type": "code",
   "execution_count": 6,
   "metadata": {},
   "outputs": [],
   "source": [
    "def plot_fresnel():\n",
    "    n_air=1.0\n",
    "    n_water=1.34\n",
    "\n",
    "    reflections=[]\n",
    "    degrees=[]\n",
    "    for theta_deg in range(0,90,1):\n",
    "        reflections.append(fresnel(n_water/n_air,theta_deg,0))\n",
    "        degrees.append(theta_deg)\n",
    "\n",
    "    plt.plot(degrees, reflections)\n",
    "    plt.title(\"Reflectance of light at angles from air to sea\")\n",
    "    plt.ylabel(\"Reflectance\")\n",
    "    plt.xlabel(\"Degrees zenith\")\n",
    "    plt.show()"
   ]
  },
  {
   "cell_type": "markdown",
   "metadata": {},
   "source": [
    "### More realistic reflections using OSA\n",
    "Accounting for the sea surface roughness is done by parameterization of the roughness from the windspeed (whitecap function), while reflection and absorption from chlorophyll and particles is done once for the water column."
   ]
  },
  {
   "cell_type": "code",
   "execution_count": 7,
   "metadata": {},
   "outputs": [],
   "source": [
    "# Following Roland Seferian, equation 3\n",
    "# https://www.geosci-model-dev.net/11/321/2018/gmd-11-321-2018.pdf\n",
    "\n",
    "def calculate_alpha_dir(n_lambda,µ):\n",
    "    a = np.sqrt(1.0 - (1.0 - µ**2)/n_lambda**2)\n",
    "    b = ((a-n_lambda*µ)/(a+n_lambda*µ))**2    \n",
    "    c = ((µ-n_lambda*a)/(µ+n_lambda*a))**2\n",
    "\n",
    "    return 0.5*(b+c)"
   ]
  },
  {
   "cell_type": "code",
   "execution_count": 8,
   "metadata": {},
   "outputs": [],
   "source": [
    "def calculate_diffuse_reflection(n_λ,σ):\n",
    "    # Diffuse albedo from Jin et al., 2006 (Eq 5b) \n",
    "    return -0.1479 + 0.1502*n_λ-0.0176*n_λ*σ"
   ]
  },
  {
   "cell_type": "code",
   "execution_count": 9,
   "metadata": {},
   "outputs": [],
   "source": [
    "def surface_roughness(µ, σ):\n",
    "    # Surface roughness following Jin et al. 2014 equation 4\n",
    "    # This rougness parameter determines the Fresnel refraction \n",
    "    # index from flat surface\n",
    "    return (0.0152-1.7873*µ + 6.8972*(µ**2)-8.5778*(µ**3)+ 4.071*σ-7.6446*µ*σ) * np.exp(0.1643-7.8409*µ-3.5639*µ**2-2.3588*σ+10.054*µ*σ)"
   ]
  },
  {
   "cell_type": "code",
   "execution_count": 10,
   "metadata": {},
   "outputs": [],
   "source": [
    "def calculate_direct_reflection(n_λ,µ,σ):\n",
    "    # Direct reflection following Jin et al. 2014 equation 1\n",
    "    f_0 = calculate_alpha_dir(1.34,µ)\n",
    "    f_λ = calculate_alpha_dir(n_λ,µ)\n",
    "    \n",
    "    return f_λ-(surface_roughness(µ, σ)*f_λ/f_0)"
   ]
  },
  {
   "cell_type": "code",
   "execution_count": 11,
   "metadata": {},
   "outputs": [],
   "source": [
    "def calculate_direct_reflection_from_chl(λ, chl, alpha_chl, alpha_w, beta_w, σ, µ, alpha_direct):\n",
    "   \n",
    "    rw=0.48168549-0.014894708*σ-0.20703885*σ**2\n",
    " \n",
    "    # Determine absorption and backscattering\n",
    "    # coefficients to determine reflectance below the surface (Ro) once for all\n",
    "    # Backscattering by chlorophyll:\n",
    "    a_bp = 0.06*alpha_chl*np.exp(np.log(chl)*0.65) + 0.2*(0.00635+0.06*(np.exp(np.log(chl)*0.65))*np.exp(0.014*(440.0-λ)))\n",
    "   \n",
    "    # Backscattering of biological pigment (b_chl) with λ expressed here in nm and [Chl] in mg m−3. This\n",
    "    # formulation is valid for [Chl] ranging between 0.02 and 2 mg m−3 (Morel and Maritorena (2001))\n",
    "    # Equation 12 Roland Seferian, 2018\n",
    "    b_chl=(0.416*np.exp(0.766*np.log(chl)))*(0.002+0.01*(0.5-0.25*np.log(chl))*np.exp((0.5*(np.log(chl)-0.3))*np.log(λ/550.0)))\n",
    "                                                                                 \n",
    "    # # Use Morel 91 formula to compute the direct reflectance below the surface (Morel-Gentili(1991), Eq (12))\n",
    "    n=0.5*beta_w/(0.5*beta_w + b_chl)\n",
    "   \n",
    "    # Equation 11 Roland Seferian, 2018\n",
    "    beta = 0.6279-0.2227*n-0.0513*n**2 +(0.2465*n - 0.3119)*µ\n",
    "    \n",
    "    # Equation 10 Roland Seferian, 2018\n",
    "    R0 = beta * (0.5*beta_w + b_chl)/(alpha_w + a_bp)\n",
    "   \n",
    "    # Water leaving albedo, equation 8 Roland Seferian, 2018\n",
    "    return (R0*(1.0-rw)/(1-rw*R0)) "
   ]
  },
  {
   "cell_type": "code",
   "execution_count": 12,
   "metadata": {},
   "outputs": [],
   "source": [
    "def calculate_diffuse_reflection_from_chl(λ, chl, alpha_chl, alpha_w, beta_w, σ, alpha_direct):\n",
    "    #  In the case of ocean interior reflectance for direct incoming radiation it depends on µ = cos(θ) whereas in the\n",
    "    # case of ocean interior reflectance for diffuse µ = 0.676. This value is considered an effective angle of incoming radiation of 47.47◦\n",
    "    # according to Morel and Gentili (1991). Hence\n",
    "    return calculate_direct_reflection_from_chl(λ, chl, alpha_chl, alpha_w, beta_w, σ, np.arccos(0.676), alpha_direct)"
   ]
  },
  {
   "cell_type": "code",
   "execution_count": 13,
   "metadata": {},
   "outputs": [],
   "source": [
    "def whitecap(wind):\n",
    "    # Whitecap effect as defined by Salisbury et al. 2014. NOTE that the value in paper is in percent\n",
    "    # so we use the ratio instead (/100.) \n",
    "    # Salisbury, D. J., Anguelova, M. D., and Brooks, I. M.: Global Distribution and Seasonal \n",
    "    # Dependence of Satellite-based Whitecap Fraction\n",
    "    #\n",
    "    # Whitecaps are the surface manifestation of bubble plumes, created when \n",
    "    # surface gravity waves break and entrain air into the water column. \n",
    "    # They enhance air-sea exchange, introducing physical processes different from \n",
    "    # those operating at the bubble-free water surface. \n",
    "  \n",
    "    return 0.000397*(np.exp(1.59*np.log(wind)))"
   ]
  },
  {
   "cell_type": "code",
   "execution_count": 14,
   "metadata": {},
   "outputs": [],
   "source": [
    "def calculate_spectral_and_broadband_OSA(wind,alpha_wc,alpha_direct,alpha_diffuse,alpha_direct_chl,alpha_diffuse_chl,solar_energy):\n",
    "    wc = whitecap(wind)\n",
    "  \n",
    "    OSA_direct = (alpha_direct + alpha_direct_chl) * (1-wc) + wc*alpha_wc\n",
    "    OSA_diffuse = (alpha_diffuse + alpha_diffuse_chl) * (1-wc) + wc*alpha_wc\n",
    "    \n",
    "    # Integrate across all wavelengths 200-4000nm at 10 nm wavelength bands and then weight by the solar energy at each band.\n",
    "    # The solar energy is dimensionless with sum equal to 1 and therefore already weighted.\n",
    "    OSA_direct_broadband = np.sum(OSA_direct*solar_energy,axis=0)\n",
    "    OSA_diffuse_broadband = np.sum(OSA_diffuse*solar_energy,axis=0)\n",
    "    \n",
    "    OSA=(OSA_direct_broadband*0.0+1.0*OSA_diffuse_broadband)/1.0\n",
    "    return OSA"
   ]
  },
  {
   "cell_type": "code",
   "execution_count": 15,
   "metadata": {},
   "outputs": [],
   "source": [
    "def calculate_OSA(µ, uv, chl, wavelengths, refractive_indexes, alpha_chl, alpha_w, beta_w, alpha_wc, solar_energy):\n",
    "    \n",
    "    # Solar zenith angle\n",
    "    # µ = np.cos(np.radians(latitude))\n",
    "    # wind is wind at 10 m height (m/s)\n",
    "    σ = np.sqrt(0.003+0.00512*uv)\n",
    "         \n",
    "    # Vectorize the functions\n",
    "    vec_calculate_direct_reflection=np.vectorize(calculate_direct_reflection)\n",
    "    vec_calculate_diffuse_reflection=np.vectorize(calculate_diffuse_reflection)\n",
    "    vec_calculate_direct_reflection_from_chl=np.vectorize(calculate_direct_reflection_from_chl)\n",
    "    vec_calculate_diffuse_reflection_from_chl=np.vectorize(calculate_diffuse_reflection_from_chl)\n",
    "    \n",
    "    # Direct reflection\n",
    "    alpha_direct = vec_calculate_direct_reflection(refractive_indexes,µ,σ)\n",
    "   \n",
    "    # Diffuse reflection\n",
    "    alpha_diffuse = vec_calculate_diffuse_reflection(refractive_indexes,σ)\n",
    "\n",
    "    # Reflection from chlorophyll and biological pigments\n",
    "    alpha_direct_chl = vec_calculate_direct_reflection_from_chl(wavelengths, chl, alpha_chl, alpha_w, beta_w, σ, µ, alpha_direct)\n",
    "   \n",
    "    # Diffuse reflection interior of water from chlorophyll\n",
    "    alpha_diffuse_chl = vec_calculate_diffuse_reflection_from_chl(wavelengths, chl, alpha_chl, alpha_w, beta_w, σ, alpha_direct)\n",
    "\n",
    "    # OSA\n",
    "    return calculate_spectral_and_broadband_OSA(uv,alpha_wc,alpha_direct,alpha_diffuse,alpha_direct_chl,alpha_diffuse_chl,solar_energy)"
   ]
  },
  {
   "cell_type": "code",
   "execution_count": 16,
   "metadata": {},
   "outputs": [],
   "source": [
    "def setup_parameters():\n",
    "    df=pd.read_csv(\"data/Wavelength/Fresnels_refraction.csv\", header=0, sep=\";\", decimal=\",\")\n",
    "    wavelengths=df[\"λ\"].values\n",
    "    refractive_indexes=df[\"n(λ)\"].values\n",
    "    alpha_chl=df[\"a_chl(λ)\"].values\n",
    "    alpha_w=df[\"a_w(λ)\"].values\n",
    "    beta_w=df[\"b_w(λ)\"].values\n",
    "    alpha_wc=df[\"a_wc(λ)\"].values\n",
    "    solar_energy=df[\"E(λ)\"].values\n",
    "    print(df.head())\n",
    "    return wavelengths, refractive_indexes, alpha_chl, alpha_w, beta_w, alpha_wc, solar_energy"
   ]
  },
  {
   "cell_type": "markdown",
   "metadata": {},
   "source": [
    "### Sequential calculation of OSA\n",
    "The sequential steps below performs the required steps to calculate diffuse and direct components of ocean surface albedo using the methods outlined above. All claculations are vectorized using `np.vectorize`."
   ]
  },
  {
   "cell_type": "code",
   "execution_count": 17,
   "metadata": {},
   "outputs": [],
   "source": [
    "# This notebook is for the most to be imported as a module into other notebooks\n",
    "# but for testing just run main().\n",
    "def main():\n",
    "    wavelengths, refractive_indexes, alpha_chl, alpha_w, beta_w, alpha_wc, solar_energy = setup_parameters()\n",
    "\n",
    "    theta_deg=11.0\n",
    "    wind=10.0\n",
    "    chl=1.00001\n",
    "\n",
    "    # Solar zenith angle\n",
    "    µ = np.cos(np.radians(theta_deg))\n",
    "\n",
    "    # wind is wind at 10 m height (m/s)\n",
    "    σ = np.sqrt(0.003+0.00512*wind)\n",
    "\n",
    "    calculate_OSA(µ, wind, chl, wavelengths, refractive_indexes, alpha_chl, alpha_w, beta_w, alpha_wc, solar_energy)        "
   ]
  },
  {
   "cell_type": "code",
   "execution_count": 18,
   "metadata": {},
   "outputs": [],
   "source": [
    "def create_figure2_Jin():\n",
    "    n_air=1.0\n",
    "    n_water=1.34\n",
    "    winds=[0.0,3.0,12.0]\n",
    "    \n",
    "    colors=[\"red\",\"blue\",\"green\"]\n",
    "    styles=['solid', 'dashed', 'dashdot']\n",
    "    for ind,wind in enumerate(winds):\n",
    "        reflections=[]; degrees=[]\n",
    "        σ = np.sqrt(0.003+0.00512*wind)\n",
    "        for theta_deg in range(0,90,1):\n",
    "            µ = np.cos(np.radians(theta_deg))\n",
    "            reflections.append(calculate_direct_reflection(n_water/n_air,µ,σ))\n",
    "            degrees.append(theta_deg)\n",
    "\n",
    "        plt.plot(degrees, reflections, color=colors[ind],linestyle=styles[ind])\n",
    "    plt.title(\"Reflectance of light at angles from air to sea\")\n",
    "    plt.ylabel(\"Reflectance\")\n",
    "    plt.xlabel(\"Degrees zenith\")\n",
    "  #  plt.yscale(\"log\")\n",
    "    plt.show()\n",
    "    \n",
    "#create_figure2_Jin()"
   ]
  },
  {
   "cell_type": "code",
   "execution_count": null,
   "metadata": {},
   "outputs": [],
   "source": []
  }
 ],
 "metadata": {
  "kernelspec": {
   "display_name": "Python 3",
   "language": "python",
   "name": "python3"
  },
  "language_info": {
   "codemirror_mode": {
    "name": "ipython",
    "version": 3
   },
   "file_extension": ".py",
   "mimetype": "text/x-python",
   "name": "python",
   "nbconvert_exporter": "python",
   "pygments_lexer": "ipython3",
   "version": "3.7.4"
  }
 },
 "nbformat": 4,
 "nbformat_minor": 4
}
