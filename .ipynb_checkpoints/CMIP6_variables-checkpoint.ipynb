{
 "cells": [
  {
   "cell_type": "markdown",
   "metadata": {},
   "source": [
    "## CMIP6 Variables\n",
    " - `variable_id` is the CMIP6 keyword for variable"
   ]
  },
  {
   "cell_type": "code",
   "execution_count": null,
   "metadata": {},
   "outputs": [],
   "source": [
    "import pandas as pd\n",
    "import qgrid"
   ]
  },
  {
   "cell_type": "code",
   "execution_count": null,
   "metadata": {},
   "outputs": [],
   "source": [
    "df = pd.read_json('json/CMIP6_variable_id.json').rename(columns = {'variable_id':'long_name'}).reset_index()\n",
    "df = df.rename(columns = {'index':'variable_id'})"
   ]
  },
  {
   "cell_type": "markdown",
   "metadata": {},
   "source": [
    "### The next cell opens a widget\n",
    "\n",
    "### You can:\n",
    "- click on the filter symbol at top of each column, enter text to search, or select checkbox(es)\n",
    "- click on column label to sort\n",
    "\n",
    "### You can also:\n",
    "- clear filter choices after you make them\n",
    "- reset whole widget by re-running the cell"
   ]
  },
  {
   "cell_type": "code",
   "execution_count": null,
   "metadata": {},
   "outputs": [],
   "source": [
    "col_defs = {'index':{'width':10}}\n",
    "widget = qgrid.show_grid(df, column_definitions = col_defs, column_options={'editable':False})\n",
    "                         \n",
    "widget"
   ]
  },
  {
   "cell_type": "code",
   "execution_count": null,
   "metadata": {},
   "outputs": [],
   "source": [
    "dfnew = widget.get_changed_df()\n",
    "dfnew.variable_id.count()"
   ]
  },
  {
   "cell_type": "code",
   "execution_count": null,
   "metadata": {},
   "outputs": [],
   "source": [
    "# alphabetical LIST OF ALL variables\n",
    "import json\n",
    "\n",
    "with open('json/CMIP6_variable_id.json') as f:\n",
    "      data = json.load(f)\n",
    "\n",
    "data1 = data['variable_id']\n",
    "variable_ids = list(data1.keys())\n",
    "\n",
    "for item,variable_id in enumerate(variable_ids):\n",
    "    print(item+1,'\\b.',variable_id,':',data1[variable_id])"
   ]
  },
  {
   "cell_type": "code",
   "execution_count": null,
   "metadata": {},
   "outputs": [],
   "source": []
  },
  {
   "cell_type": "code",
   "execution_count": null,
   "metadata": {},
   "outputs": [],
   "source": []
  }
 ],
 "metadata": {
  "kernelspec": {
   "display_name": "pangeo-Jun2019",
   "language": "python",
   "name": "pangeojun2019"
  },
  "language_info": {
   "codemirror_mode": {
    "name": "ipython",
    "version": 3
   },
   "file_extension": ".py",
   "mimetype": "text/x-python",
   "name": "python",
   "nbconvert_exporter": "python",
   "pygments_lexer": "ipython3",
   "version": "3.6.7"
  }
 },
 "nbformat": 4,
 "nbformat_minor": 4
}
