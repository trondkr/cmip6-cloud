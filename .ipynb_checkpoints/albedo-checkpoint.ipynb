{
 "cells": [
  {
   "cell_type": "code",
   "execution_count": 41,
   "metadata": {},
   "outputs": [],
   "source": [
    "import math\n",
    "import matplotlib.pyplot as plt\n",
    "import pandas as pd\n",
    "import numpy as np"
   ]
  },
  {
   "cell_type": "code",
   "execution_count": 83,
   "metadata": {},
   "outputs": [],
   "source": [
    "# https://en.wikipedia.org/wiki/Fresnel_equations\n",
    "# https://computergraphics.stackexchange.com/questions/5182/fresnel-equation-with-incident-angle-n-and-k-as-input\n",
    "# http://www.oceanopticsbook.info/view/surfaces/the_level_sea_surface#fig:ReflTrans\n",
    "def fresnel(n,theta_deg,k):\n",
    "    theta = math.radians(theta_deg)\n",
    "\n",
    "    a = math.sqrt((math.sqrt((n**2-k**2-(math.sin(theta))**2)**2 +\n",
    "                                 ((4 * n**2) * k**2)) + (n**2 - k**2 -\n",
    "                                            (math.sin(theta))**2))/2)\n",
    "\n",
    "    b = math.sqrt((math.sqrt((n**2-k**2-(math.sin(theta))**2)**2 +\n",
    "                                 ((4 * n**2) * k**2)) - (n**2 - k**2 -\n",
    "                                            (math.sin(theta))**2))/2)\n",
    "\n",
    "    Fs = (a**2+b**2-(2 * a * math.cos(theta))+\n",
    "              (math.cos(theta))**2)/(a**2+b**2 +\n",
    "                            (2 * a * math.cos(theta))+(math.cos(theta))**2)\n",
    "\n",
    "    Fp = Fs * ((a**2+b**2 -\n",
    "                    (2 * a * math.sin(theta) * math.tan(theta)) +\n",
    "                    (math.sin(theta))**2*(math.tan(theta))**2)/(a**2+b**2 +\n",
    "                    (2 * a * math.sin(theta) * math.tan(theta)) +\n",
    "                    (math.sin(theta))**2*(math.tan(theta))**2))\n",
    "\n",
    "    R = (Fs + Fp)/2.\n",
    "    return R"
   ]
  },
  {
   "cell_type": "code",
   "execution_count": 84,
   "metadata": {},
   "outputs": [
    {
     "data": {
      "image/png": "[encoded data removed]",
      "text/plain": [
       "<Figure size 432x288 with 1 Axes>"
      ]
     },
     "metadata": {
      "needs_background": "light"
     },
     "output_type": "display_data"
    }
   ],
   "source": [
    "n_air=1.0\n",
    "n_water=1.34\n",
    "\n",
    "reflections=[]\n",
    "degrees=[]\n",
    "for theta_deg in range(0,90,1):\n",
    "    reflections.append(fresnel(n_water/n_air,theta_deg,0))\n",
    "    degrees.append(theta_deg)\n",
    "\n",
    "plt.plot(degrees, reflections)\n",
    "plt.title(\"Reflectance of light at angles from air to sea\")\n",
    "plt.ylabel(\"Reflectance\")\n",
    "plt.xlabel(\"Degrees zenith\")\n",
    "plt.show()"
   ]
  },
  {
   "cell_type": "code",
   "execution_count": null,
   "metadata": {},
   "outputs": [],
   "source": [
    "def calculate_alpha_dir(n_lambda,theta_deg)):\n",
    "    µ = np.cos(theta_deg) \n",
    "    a = np.sqrt(1.0 - (1.0 - µ**2)/n_lambda**2)\n",
    "    b = ((a-n_lambda*µ)/(a+n_lambda*µ))**2    \n",
    "    c = ((µ-n_lambda*a)/(µ+n_lambda*a))**2\n",
    "\n",
    "    zrro=0.5*(b+c)"
   ]
  },
  {
   "cell_type": "code",
   "execution_count": 88,
   "metadata": {},
   "outputs": [],
   "source": [
    "def whitecap(theta_deg, wind):\n",
    "    # theta_deg = solar zenith angle\n",
    "    # wind is wind at 10 m height to calculate whi\n",
    "    µ = np.cos(theta_deg) \n",
    "    σ = np.sqrt(0.003+0.00512*wind)\n",
    "    return (0.0152-1.7873*µ + 6.8972*(µ**2)-8.5778*(µ**3)+ 4.071*σ-7.6446*µ*σ) * np.exp(0.1643-7.8409*µ-3.5639*µ**2-2.3588*σ+10.054*µ*σ)"
   ]
  },
  {
   "cell_type": "code",
   "execution_count": 89,
   "metadata": {},
   "outputs": [],
   "source": [
    "def diffuse_reflection(n_λ,σ):\n",
    "    return -0.1479 + 0.1502*n_λ-0.0176*n_λ*σ"
   ]
  },
  {
   "cell_type": "code",
   "execution_count": 91,
   "metadata": {},
   "outputs": [
    {
     "ename": "SyntaxError",
     "evalue": "invalid syntax (<ipython-input-91-1914aac2ad84>, line 12)",
     "output_type": "error",
     "traceback": [
      "\u001b[0;36m  File \u001b[0;32m\"<ipython-input-91-1914aac2ad84>\"\u001b[0;36m, line \u001b[0;32m12\u001b[0m\n\u001b[0;31m    R = f_λ - (f_λ/f_0)*whitecap(theta_deg, wind)\u001b[0m\n\u001b[0m    ^\u001b[0m\n\u001b[0;31mSyntaxError\u001b[0m\u001b[0;31m:\u001b[0m invalid syntax\n"
     ]
    }
   ],
   "source": [
    "df=pd.read_csv(\"data/Wavelength/Fresnels_refraction.csv\", header=0, sep=\";\", decimal=\",\")\n",
    "\n",
    "wavelengths=df[\"λ\"]\n",
    "refractions=df[\"n(λ)\"]\n",
    "theta_deg=10.0\n",
    "wind=5.0\n",
    "\n",
    "for λ, n_λ in zip(wavelengths,refractions):\n",
    "    \n",
    "    f_0 = calculate_alpha_dir(1.34,theta_deg)\n",
    "    f_λ = calculate_alpha_dir(n_λ,theta_deg)\n",
    "    R = f_λ - (f_λ/f_0)*whitecap(theta_deg, wind)\n",
    "    \n",
    "    print(\"Reflection {} wc {} n_λ {} f_λ {}\".format(R,whitecap(theta_deg, wind),n_λ,f_λ)) \n",
    "    print(\"Diffuse reflection {}\".format(diffuse_reflection(n_λ, np.cos(theta_deg))))\n",
    "def direct_surface_albedo(λ, θ ,w):\n",
    "    print(\"Calculating direct surface albedo\")"
   ]
  },
  {
   "cell_type": "code",
   "execution_count": null,
   "metadata": {},
   "outputs": [],
   "source": []
  }
 ],
 "metadata": {
  "kernelspec": {
   "display_name": "Python 3",
   "language": "python",
   "name": "python3"
  },
  "language_info": {
   "codemirror_mode": {
    "name": "ipython",
    "version": 3
   },
   "file_extension": ".py",
   "mimetype": "text/x-python",
   "name": "python",
   "nbconvert_exporter": "python",
   "pygments_lexer": "ipython3",
   "version": "3.7.4"
  }
 },
 "nbformat": 4,
 "nbformat_minor": 4
}
