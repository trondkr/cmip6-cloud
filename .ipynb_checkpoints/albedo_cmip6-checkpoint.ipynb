{
 "cells": [
  {
   "cell_type": "code",
   "execution_count": 28,
   "metadata": {},
   "outputs": [
    {
     "name": "stdout",
     "output_type": "stream",
     "text": [
      "Requirement already satisfied: nc-time-axis in /opt/conda/lib/python3.7/site-packages (1.2.0)\n",
      "Requirement already satisfied: six in /opt/conda/lib/python3.7/site-packages (from nc-time-axis) (1.14.0)\n",
      "Requirement already satisfied: matplotlib in /opt/conda/lib/python3.7/site-packages (from nc-time-axis) (3.1.3)\n",
      "Requirement already satisfied: numpy in /opt/conda/lib/python3.7/site-packages (from nc-time-axis) (1.18.1)\n",
      "Requirement already satisfied: cftime in /opt/conda/lib/python3.7/site-packages (from nc-time-axis) (1.1.1.2)\n",
      "Requirement already satisfied: cycler>=0.10 in /opt/conda/lib/python3.7/site-packages (from matplotlib->nc-time-axis) (0.10.0)\n",
      "Requirement already satisfied: python-dateutil>=2.1 in /opt/conda/lib/python3.7/site-packages (from matplotlib->nc-time-axis) (2.8.0)\n",
      "Requirement already satisfied: kiwisolver>=1.0.1 in /opt/conda/lib/python3.7/site-packages (from matplotlib->nc-time-axis) (1.1.0)\n",
      "Requirement already satisfied: pyparsing!=2.0.4,!=2.1.2,!=2.1.6,>=2.0.1 in /opt/conda/lib/python3.7/site-packages (from matplotlib->nc-time-axis) (2.4.6)\n",
      "Requirement already satisfied: setuptools in /opt/conda/lib/python3.7/site-packages (from kiwisolver>=1.0.1->matplotlib->nc-time-axis) (45.1.0.post20200119)\n"
     ]
    }
   ],
   "source": [
    "import math\n",
    "import matplotlib.pyplot as plt\n",
    "import pandas as pd\n",
    "import numpy as np\n",
    "import sys\n",
    "# Computational modules\n",
    "import zarr\n",
    "import dask\n",
    "import numpy as np\n",
    "import pandas as pd\n",
    "import xarray as xr\n",
    "import gcsfs\n",
    "import cartopy.crs as ccrs\n",
    "import datetime\n",
    "# Maps   \n",
    "import cartopy.io.shapereader as shpreader\n",
    "import cartopy.crs as ccrs\n",
    "import cartopy.feature as cfeature\n",
    "import rioxarray\n",
    "import geopandas as gpd\n",
    "from shapely.geometry import box, mapping\n",
    "import dateutil\n",
    "import pysolar\n",
    "from cartopy.util import add_cyclic_point\n",
    "\n",
    "#!{sys.executable} -m pip install --user cmip6_preprocessing\n",
    "!{sys.executable} -m pip install --user nc-time-axis\n",
    "# Local files and utility functions\n",
    "sys.path.append(\"./subroutines/\")\n",
    "import pices\n",
    "#!{sys.executable} -m pip install --user pytz\n",
    "#!{sys.executable} -m pip install --user tzwhere\n",
    "import pytz\n",
    "#from tzwhere import tzwhere\n",
    "#!{sys.executable} -m pip install --user astropy\n",
    "#import astropy\n",
    "\n",
    "import xesmf as xe\n",
    "np.seterr(divide='ignore', invalid='ignore')\n",
    "get_ipython().run_line_magic(\"matplotlib\", \"inline\")\n",
    "plt.rcParams[\"figure.figsize\"] = 12, 6\n",
    "get_ipython().run_line_magic(\"config\", \"InlineBackend.figure_format = 'retina'\")"
   ]
  },
  {
   "cell_type": "code",
   "execution_count": 2,
   "metadata": {},
   "outputs": [
    {
     "data": {
      "text/html": [
       "<table style=\"border: 2px solid white;\">\n",
       "<tr>\n",
       "<td style=\"vertical-align: top; border: 0px solid white\">\n",
       "<h3 style=\"text-align: left;\">Client</h3>\n",
       "<ul style=\"text-align: left; list-style: none; margin: 0; padding: 0;\">\n",
       "  <li><b>Scheduler: </b>tcp://127.0.0.1:38901</li>\n",
       "  <li><b>Dashboard: </b><a href='/user/trondkr/proxy/8787/status' target='_blank'>/user/trondkr/proxy/8787/status</a>\n",
       "</ul>\n",
       "</td>\n",
       "<td style=\"vertical-align: top; border: 0px solid white\">\n",
       "<h3 style=\"text-align: left;\">Cluster</h3>\n",
       "<ul style=\"text-align: left; list-style:none; margin: 0; padding: 0;\">\n",
       "  <li><b>Workers: </b>4</li>\n",
       "  <li><b>Cores: </b>16</li>\n",
       "  <li><b>Memory: </b>63.33 GB</li>\n",
       "</ul>\n",
       "</td>\n",
       "</tr>\n",
       "</table>"
      ],
      "text/plain": [
       "<Client: 'tcp://127.0.0.1:38901' processes=4 threads=16, memory=63.33 GB>"
      ]
     },
     "execution_count": 2,
     "metadata": {},
     "output_type": "execute_result"
    }
   ],
   "source": [
    "from dask.distributed import Client, progress\n",
    "client = Client() \n",
    "client"
   ]
  },
  {
   "cell_type": "code",
   "execution_count": 3,
   "metadata": {},
   "outputs": [
    {
     "name": "stdout",
     "output_type": "stream",
     "text": [
      "Running historical query on data: \n",
      " ==> source_id=='CanESM5'and table_id=='Amon' and grid_label=='gn' and experiment_id=='historical' and variable_id=='uas'\n",
      "\n",
      "Running projections query on data: \n",
      " ==> source_id=='CanESM5'and table_id=='Amon' and member_id=='r1i1p1f1' and grid_label=='gn' and experiment_id=='ssp585' and variable_id=='uas'\n",
      "\n",
      "CanESM5 => Dates extracted range from 1950-01-16 12:00:00 to 2100-07-16 12:00:00\n",
      "\n",
      "Running historical query on data: \n",
      " ==> source_id=='CanESM5'and table_id=='Amon' and grid_label=='gn' and experiment_id=='historical' and variable_id=='vas'\n",
      "\n",
      "Running projections query on data: \n",
      " ==> source_id=='CanESM5'and table_id=='Amon' and member_id=='r1i1p1f1' and grid_label=='gn' and experiment_id=='ssp585' and variable_id=='vas'\n",
      "\n",
      "CanESM5 => Dates extracted range from 1950-01-16 12:00:00 to 2100-07-16 12:00:00\n",
      "\n",
      "Running historical query on data: \n",
      " ==> source_id=='CanESM5'and table_id=='Omon' and grid_label=='gn' and experiment_id=='historical' and variable_id=='tos'\n",
      "\n",
      "Running projections query on data: \n",
      " ==> source_id=='CanESM5'and table_id=='Omon' and member_id=='r1i1p1f1' and grid_label=='gn' and experiment_id=='ssp585' and variable_id=='tos'\n",
      "\n",
      "CanESM5 => Dates extracted range from 1950-01-16 12:00:00 to 2100-07-16 12:00:00\n",
      "\n"
     ]
    }
   ],
   "source": [
    "class Config_pices():\n",
    "    df = pd.read_csv(\n",
    "    \"https://storage.googleapis.com/cmip6/cmip6-zarr-consolidated-stores.csv\"\n",
    ")\n",
    "    fs = gcsfs.GCSFileSystem(token=\"anon\", access=\"read_only\")\n",
    "   \n",
    "    grid_labels = [\"gn\"]  # Can be gr=grid rotated, or gn=grid native\n",
    "    member_ids = [\"r1i1p1f1\"]  #\n",
    "    experiment_ids = [\"ssp585\"]  #'abrupt-4xCO2',\n",
    "    source_ids = [\"CanESM5\"]\n",
    "    variable_ids = [\"uas\",\"vas\",\"tos\"]\n",
    "    table_ids = [\"Amon\",\"Amon\",\"Omon\"]  # Amon=atmospheric variables, Omon=Ocean variables, SImon=sea-ice variables\n",
    "    dset_dict = {}\n",
    "    start_date=\"1950-01-01\"\n",
    "    end_date=\"2100-08-01\"\n",
    "    clim_start=\"1961-01-01\"\n",
    "    clim_end=\"1990-01-01\"\n",
    "    \n",
    "    selected_depth=0\n",
    "  \n",
    "# Create the object\n",
    "config_pices_obj = Config_pices()\n",
    "config_pices_obj = pices.get_and_organize_cmip6_data(config_pices_obj)"
   ]
  },
  {
   "cell_type": "code",
   "execution_count": 4,
   "metadata": {},
   "outputs": [],
   "source": [
    "# Following Roland Seferian, equation 3\n",
    "# https://www.geosci-model-dev.net/11/321/2018/gmd-11-321-2018.pdf\n",
    "\n",
    "def calculate_alpha_dir(n_lambda,µ):\n",
    "    a = np.sqrt(1.0 - (1.0 - µ**2)/n_lambda**2)\n",
    "    b = ((a-n_lambda*µ)/(a+n_lambda*µ))**2    \n",
    "    c = ((µ-n_lambda*a)/(µ+n_lambda*a))**2\n",
    "\n",
    "    return 0.5*(b+c)"
   ]
  },
  {
   "cell_type": "code",
   "execution_count": 5,
   "metadata": {},
   "outputs": [],
   "source": [
    "def calculate_diffuse_reflection(n_λ,σ):\n",
    "    return -0.1479 + 0.1502*n_λ-0.0176*n_λ*σ"
   ]
  },
  {
   "cell_type": "code",
   "execution_count": 6,
   "metadata": {},
   "outputs": [],
   "source": [
    "def surface_roughness(µ, σ):\n",
    "    # Surface roughness following Jin et al. 2014 equation 4\n",
    "    # This rougness parameter determines the Fresnel refraction \n",
    "    # index from flat surface\n",
    "    return (0.0152-1.7873*µ + 6.8972*(µ**2)-8.5778*(µ**3)+ 4.071*σ-7.6446*µ*σ) * np.exp(0.1643-7.8409*µ-3.5639*µ**2-2.3588*σ+10.054*µ*σ)"
   ]
  },
  {
   "cell_type": "code",
   "execution_count": 7,
   "metadata": {},
   "outputs": [],
   "source": [
    "def calculate_direct_reflection(n_λ,µ,σ):\n",
    "    µ = np.cos(np.radians(50.))\n",
    "    # Direct reflection following Jin et al. 2014 equation 1\n",
    "    f_0 = calculate_alpha_dir(1.34,µ)\n",
    "    f_λ = calculate_alpha_dir(n_λ,µ)\n",
    "    \n",
    "    return f_λ - (surface_roughness(µ, σ)*f_λ/f_0)"
   ]
  },
  {
   "cell_type": "code",
   "execution_count": 8,
   "metadata": {},
   "outputs": [],
   "source": [
    "def calculate_direct_reflection_from_chl(λ, chl, alpha_chl, alpha_w, beta_w, σ, µ, alpha_direct):\n",
    "   \n",
    "    rw=0.48168549-0.014894708*σ-0.20703885*σ**2\n",
    " \n",
    "    # Determine absorption and backscattering\n",
    "    # coefficients to determine reflectance below the surface (Ro) once for all\n",
    "    a_bp = 0.06*alpha_chl*chl**0.65 + 0.2*(0.00635+0.06*(chl**0.65))*np.exp(0.014*(440.-λ))\n",
    "   \n",
    "    # Backscattering of biological pigment (b_chl) with λ expressed here in nm and [Chl] in mg m−3. This\n",
    "    # formulation is valid for [Chl] ranging between 0.02 and 2 mg m−3 (Morel and Maritorena (2001))\n",
    "    # Equation 12 Roland Seferian, 2018\n",
    "    b_chl=(0.416*chl**0.766)*(0.002+0.01*(0.5-0.25*np.log(chl))*(λ/550.0)**(0.5*(np.log(chl)-0.3)))\n",
    "   \n",
    "    # # Use Morel 91 formula to compute the direct reflectance below the surface (Morel-Gentili(1991), Eq (12))\n",
    "    n=0.5*beta_w/(0.5*beta_w + b_chl)\n",
    "   \n",
    "    # Equation 11 Roland Seferian, 2018\n",
    "    beta = 0.6279-0.2227*n-0.0513*n**2 +(0.2465*n - 0.3119)*µ\n",
    "    \n",
    "    # Equation 10 Roland Seferian, 2018\n",
    "    R0 = beta * (0.5*beta_w + b_chl)/(alpha_w + a_bp)\n",
    "   \n",
    "    # Water leaving albedo, equation 8 Roland Seferian, 2018\n",
    "    return (((1.0-rw)*R0)/(1-rw*R0))*(1-alpha_direct)"
   ]
  },
  {
   "cell_type": "code",
   "execution_count": 9,
   "metadata": {},
   "outputs": [],
   "source": [
    "def calculate_diffuse_reflection_from_chl(λ, chl, alpha_chl, alpha_w, beta_w, σ, alpha_direct):\n",
    "    #  In the case of ocean interior reflectance for direct incoming radiation it depends on µ = cos(θ) whereas in the\n",
    "    # case of ocean interior reflectance for diffuse µ = 0.676. This value is considered an effective angle of incoming radiation of 47.47◦\n",
    "    # according to Morel and Gentili (1991). Hence\n",
    "    return calculate_direct_reflection_from_chl(λ, chl, alpha_chl, alpha_w, beta_w, σ, np.arccos(0.676), alpha_direct)"
   ]
  },
  {
   "cell_type": "code",
   "execution_count": 10,
   "metadata": {},
   "outputs": [],
   "source": [
    "def whitecap(wind):\n",
    "    # Whitecap effect as defined by Salisbury et al. 2014. NOTE that the value in paper is in percent\n",
    "    # so we use the ratio instead (/100.) \n",
    "    # Salisbury, D. J., Anguelova, M. D., and Brooks, I. M.: Global Distribution and Seasonal \n",
    "    # Dependence of Satellite-based Whitecap Fraction\n",
    "    #\n",
    "    # Whitecaps are the surface manifestation of bubble plumes, created when \n",
    "    # surface gravity waves break and entrain air into the water column. \n",
    "    # They enhance air-sea exchange, introducing physical processes different from \n",
    "    # those operating at the bubble-free water surface. \n",
    "\n",
    "    return 0.000397*(np.exp(1.59*np.log(wind)))"
   ]
  },
  {
   "cell_type": "code",
   "execution_count": 11,
   "metadata": {},
   "outputs": [],
   "source": [
    "def calculate_spectral_and_broadband_OSA(wind,alpha_wc,alpha_direct,alpha_diffuse,alpha_direct_chl,alpha_diffuse_chl,solar_energy):\n",
    "    wc = whitecap(wind)\n",
    "    OSA_direct = (alpha_direct + alpha_direct_chl) * (1-wc) + wc*alpha_wc\n",
    "    OSA_diffuse = (alpha_diffuse + alpha_diffuse_chl) * (1-wc) + wc*alpha_wc\n",
    "    \n",
    "    # Integrate across all wavelengths 200-4000nm at 10 nm wavelength bands and then weight by the solar energy at each band\n",
    "    OSA_direct_broadband = np.sum(OSA_direct*solar_energy)/np.sum(solar_energy)\n",
    "    OSA_diffuse_broadband = np.sum(OSA_diffuse*solar_energy)/np.sum(solar_energy)\n",
    "    return OSA_direct_broadband \n",
    "  #  print(\"calculate_spectral_and_broadband_OSA: {} {}\".format(OSA_direct_broadband,OSA_diffuse_broadband))"
   ]
  },
  {
   "cell_type": "code",
   "execution_count": 12,
   "metadata": {},
   "outputs": [],
   "source": [
    "def calculate_OSA(µ, uv, chl, wavelengths, refractive_indexes, alpha_chl, alpha_w, beta_w, alpha_wc, solar_energy):\n",
    "    \n",
    "    # Solar zenith angle\n",
    "   # µ = np.cos(np.radians(latitude))\n",
    "    # wind is wind at 10 m height (m/s)\n",
    "    σ = np.sqrt(0.003+0.00512*uv)\n",
    "                \n",
    "    # Vectorize the functions\n",
    "    vec_calculate_direct_reflection=np.vectorize(calculate_direct_reflection)\n",
    "    vec_calculate_diffuse_reflection=np.vectorize(calculate_diffuse_reflection)\n",
    "    vec_calculate_direct_reflection_from_chl=np.vectorize(calculate_direct_reflection_from_chl)\n",
    "    vec_calculate_diffuse_reflection_from_chl=np.vectorize(calculate_diffuse_reflection_from_chl)\n",
    "\n",
    "    # Direct reflection\n",
    "    alpha_direct = vec_calculate_direct_reflection(refractive_indexes,µ,σ)\n",
    "   \n",
    "    # Diffuse reflection\n",
    "    alpha_diffuse = vec_calculate_diffuse_reflection(refractive_indexes,σ)\n",
    "\n",
    "    # Reflection from chlorophyll and biological pigments\n",
    "    alpha_direct_chl = vec_calculate_direct_reflection_from_chl(wavelengths, chl, alpha_chl, alpha_w, beta_w, σ, µ, alpha_direct)\n",
    "   \n",
    "    # Diffuse reflection interior of water from chlorophyll\n",
    "    alpha_diffuse_chl = vec_calculate_diffuse_reflection_from_chl(wavelengths, chl, alpha_chl, alpha_w, beta_w, σ, alpha_direct)\n",
    "\n",
    "    # OSA\n",
    "    return calculate_spectral_and_broadband_OSA(uv,alpha_wc,alpha_direct,alpha_diffuse,alpha_direct_chl,alpha_diffuse_chl,solar_energy)"
   ]
  },
  {
   "cell_type": "code",
   "execution_count": 13,
   "metadata": {},
   "outputs": [],
   "source": [
    "def setup_parameters():\n",
    "    df=pd.read_csv(\"data/Wavelength/Fresnels_refraction.csv\", header=0, sep=\";\", decimal=\",\")\n",
    "    wavelengths=df[\"λ\"].values\n",
    "    refractive_indexes=df[\"n(λ)\"].values\n",
    "    alpha_chl=df[\"a_chl(λ)\"].values\n",
    "    alpha_w=df[\"a_w(λ)\"].values\n",
    "    beta_w=df[\"b_w(λ)\"].values\n",
    "    alpha_wc=df[\"a_wc(λ)\"].values\n",
    "    solar_energy=df[\"E(λ)\"].values\n",
    "    return wavelengths, refractive_indexes, alpha_chl, alpha_w, beta_w, alpha_wc, solar_energy"
   ]
  },
  {
   "cell_type": "markdown",
   "metadata": {},
   "source": [
    "# Calculate solar zenith angle using pysolar\n",
    "![zenith](images/solar_zenith.jpg)"
   ]
  },
  {
   "cell_type": "code",
   "execution_count": 14,
   "metadata": {},
   "outputs": [],
   "source": [
    "def calculate_zenith_angle(lat, lon, month, hour_of_day):\n",
    "    if (lon)>180: lon=lon-360.\n",
    "    offset=(int(lon/15.)*3600)\n",
    "    \n",
    "    when = datetime.datetime(2006,month,15,hour_of_day,0,0,tzinfo=dateutil.tz.tzoffset(None, offset)).astimezone(pytz.UTC) \n",
    "    altitude_deg = pysolar.solar.get_altitude(lat, lon, when)\n",
    "    \n",
    "    if  altitude_deg <= 0 or altitude_deg > 180:\n",
    "        zenith = 90\n",
    "        cos_teta=0\n",
    "        surface_light=0\n",
    "    else:\n",
    "        zenith = 90.0-altitude_deg\n",
    "\n",
    "     #  surface_light = pysolar.radiation.get_radiation_direct(when, altitude_deg)\n",
    "        cos_teta = np.cos(np.radians(zenith))\n",
    "   # print(\"loc ({},{}) offset {} zenith {} cos_teta {} when {}\".format(lat,lon,offset,zenith,cos_teta,when))\n",
    "    return cos_teta"
   ]
  },
  {
   "cell_type": "code",
   "execution_count": 15,
   "metadata": {},
   "outputs": [
    {
     "name": "stdout",
     "output_type": "stream",
     "text": [
      "Latitude: 37.46 cosTeta: 0.7706109488466542 month: 4\n",
      "Latitude: 60.0 cosTeta: 0.46933292656725895 month: 4\n"
     ]
    }
   ],
   "source": [
    "latitudes=[37.46,60.]\n",
    "months=[m+3 for m in range(1)]\n",
    "lon=-122\n",
    "hour_of_day=12\n",
    "for lat in latitudes:\n",
    "    for month in months:\n",
    "        cosT = calculate_zenith_angle(lat,lon,month,hour_of_day)\n",
    "        print(\"Latitude: {} cosTeta: {} month: {}\".format(lat,cosT,month+1))"
   ]
  },
  {
   "cell_type": "code",
   "execution_count": 30,
   "metadata": {},
   "outputs": [
    {
     "name": "stdout",
     "output_type": "stream",
     "text": [
      "=> model: uas_ssp585_gn_CanESM5_r1i1p1f1 variable name: uas\n",
      "=> model: vas_ssp585_gn_CanESM5_r1i1p1f1 variable name: vas\n",
      "Running for hour 15\n",
      "Median albedo for  direct light 0.04039133251045608\n",
      "Time to finish 0:01:00.544801 with mean OSA 0.040436654895251924\n"
     ]
    },
    {
     "ename": "ValueError",
     "evalue": "The coordinate must be 1-dimensional.",
     "output_type": "error",
     "traceback": [
      "\u001b[0;31m---------------------------------------------------------------------------\u001b[0m",
      "\u001b[0;31mValueError\u001b[0m                                Traceback (most recent call last)",
      "\u001b[0;32m<ipython-input-30-029ea42d594f>\u001b[0m in \u001b[0;36m<module>\u001b[0;34m\u001b[0m\n\u001b[1;32m    110\u001b[0m \u001b[0;34m\u001b[0m\u001b[0m\n\u001b[1;32m    111\u001b[0m \u001b[0;34m\u001b[0m\u001b[0m\n\u001b[0;32m--> 112\u001b[0;31m \u001b[0mcalculate_light\u001b[0m\u001b[0;34m(\u001b[0m\u001b[0mconfig_pices_obj\u001b[0m\u001b[0;34m)\u001b[0m\u001b[0;34m\u001b[0m\u001b[0;34m\u001b[0m\u001b[0m\n\u001b[0m",
      "\u001b[0;32m<ipython-input-30-029ea42d594f>\u001b[0m in \u001b[0;36mcalculate_light\u001b[0;34m(config_pices_obj)\u001b[0m\n\u001b[1;32m     91\u001b[0m                 \u001b[0mOSA_direct_broadband\u001b[0m\u001b[0;34m=\u001b[0m\u001b[0mnp\u001b[0m\u001b[0;34m.\u001b[0m\u001b[0mmean\u001b[0m\u001b[0;34m(\u001b[0m\u001b[0mnp\u001b[0m\u001b[0;34m.\u001b[0m\u001b[0masarray\u001b[0m\u001b[0;34m(\u001b[0m\u001b[0mall_OSA\u001b[0m\u001b[0;34m)\u001b[0m\u001b[0;34m,\u001b[0m\u001b[0maxis\u001b[0m\u001b[0;34m=\u001b[0m\u001b[0;36m0\u001b[0m\u001b[0;34m)\u001b[0m\u001b[0;34m\u001b[0m\u001b[0;34m\u001b[0m\u001b[0m\n\u001b[1;32m     92\u001b[0m \u001b[0;34m\u001b[0m\u001b[0m\n\u001b[0;32m---> 93\u001b[0;31m                 \u001b[0mOSA_direct_broadband\u001b[0m\u001b[0;34m,\u001b[0m \u001b[0mlon\u001b[0m \u001b[0;34m=\u001b[0m \u001b[0madd_cyclic_point\u001b[0m\u001b[0;34m(\u001b[0m\u001b[0mOSA_direct_broadband\u001b[0m\u001b[0;34m,\u001b[0m \u001b[0mcoord\u001b[0m\u001b[0;34m=\u001b[0m\u001b[0muv\u001b[0m\u001b[0;34m.\u001b[0m\u001b[0mlon\u001b[0m\u001b[0;34m.\u001b[0m\u001b[0mvalues\u001b[0m\u001b[0;34m)\u001b[0m\u001b[0;34m\u001b[0m\u001b[0;34m\u001b[0m\u001b[0m\n\u001b[0m\u001b[1;32m     94\u001b[0m \u001b[0;34m\u001b[0m\u001b[0m\n\u001b[1;32m     95\u001b[0m                 \u001b[0max3\u001b[0m \u001b[0;34m=\u001b[0m \u001b[0mplt\u001b[0m\u001b[0;34m.\u001b[0m\u001b[0maxes\u001b[0m\u001b[0;34m(\u001b[0m\u001b[0mprojection\u001b[0m\u001b[0;34m=\u001b[0m\u001b[0mproj\u001b[0m\u001b[0;34m)\u001b[0m\u001b[0;34m\u001b[0m\u001b[0;34m\u001b[0m\u001b[0m\n",
      "\u001b[0;32m/opt/conda/lib/python3.7/site-packages/cartopy/util.py\u001b[0m in \u001b[0;36madd_cyclic_point\u001b[0;34m(data, coord, axis)\u001b[0m\n\u001b[1;32m     90\u001b[0m     \u001b[0;32mif\u001b[0m \u001b[0mcoord\u001b[0m \u001b[0;32mis\u001b[0m \u001b[0;32mnot\u001b[0m \u001b[0;32mNone\u001b[0m\u001b[0;34m:\u001b[0m\u001b[0;34m\u001b[0m\u001b[0;34m\u001b[0m\u001b[0m\n\u001b[1;32m     91\u001b[0m         \u001b[0;32mif\u001b[0m \u001b[0mcoord\u001b[0m\u001b[0;34m.\u001b[0m\u001b[0mndim\u001b[0m \u001b[0;34m!=\u001b[0m \u001b[0;36m1\u001b[0m\u001b[0;34m:\u001b[0m\u001b[0;34m\u001b[0m\u001b[0;34m\u001b[0m\u001b[0m\n\u001b[0;32m---> 92\u001b[0;31m             \u001b[0;32mraise\u001b[0m \u001b[0mValueError\u001b[0m\u001b[0;34m(\u001b[0m\u001b[0;34m'The coordinate must be 1-dimensional.'\u001b[0m\u001b[0;34m)\u001b[0m\u001b[0;34m\u001b[0m\u001b[0;34m\u001b[0m\u001b[0m\n\u001b[0m\u001b[1;32m     93\u001b[0m         \u001b[0;32mif\u001b[0m \u001b[0mlen\u001b[0m\u001b[0;34m(\u001b[0m\u001b[0mcoord\u001b[0m\u001b[0;34m)\u001b[0m \u001b[0;34m!=\u001b[0m \u001b[0mdata\u001b[0m\u001b[0;34m.\u001b[0m\u001b[0mshape\u001b[0m\u001b[0;34m[\u001b[0m\u001b[0maxis\u001b[0m\u001b[0;34m]\u001b[0m\u001b[0;34m:\u001b[0m\u001b[0;34m\u001b[0m\u001b[0;34m\u001b[0m\u001b[0m\n\u001b[1;32m     94\u001b[0m             raise ValueError('The length of the coordinate does not match '\n",
      "\u001b[0;31mValueError\u001b[0m: The coordinate must be 1-dimensional."
     ]
    }
   ],
   "source": [
    "def calculate_light(config_pices_obj):\n",
    "    \n",
    "    #vec_calculate_insolation_weighted_zenith_angle=np.vectorize(calculate_insolation_weighted_zenith_angle)\n",
    "    \n",
    "    selected_time=0\n",
    "    show_plot=False\n",
    "    wavelengths, refractive_indexes, alpha_chl, alpha_w, beta_w, alpha_wc, solar_energy = setup_parameters()\n",
    "    startdate=datetime.datetime.now()\n",
    "    \n",
    "    for key in config_pices_obj.dset_dict.keys():\n",
    "        \n",
    "        var_name = key.split(\"_\")[0]\n",
    "        model_name = key.split(\"_\")[3]\n",
    "        \n",
    "        if var_name==\"uas\":\n",
    "            \n",
    "            key_v=\"vas\"+key[3:]\n",
    "            key_tos=\"tos\"+key[3:]\n",
    "            var_name_v = key_v.split(\"_\")[0]\n",
    "            model_name_v = key_v.split(\"_\")[3]\n",
    "            \n",
    "            print(\"=> model: {} variable name: {}\".format(key, var_name))\n",
    "            print(\"=> model: {} variable name: {}\".format(key_v, var_name_v))\n",
    "            \n",
    "            if model_name_v==model_name:\n",
    "                ds_uas=config_pices_obj.dset_dict[key]\n",
    "               # ds_uas=ds_uas.sel(y=slice(0,90))\n",
    "                ds_vas=config_pices_obj.dset_dict[key_v]\n",
    "                ds_tos=config_pices_obj.dset_dict[key_tos]\n",
    "              #  ds_vas=ds_vas.sel(y=slice(0,90))\n",
    "                mask=ds_tos[\"tos\"].isel(time=selected_time).values\n",
    "                mask=np.ma.masked_invalid(mask)\n",
    "                \n",
    "              #  new_lon = np.linspace(0,360,1)\n",
    "              #  new_lat = np.linspace(-90,90,1)\n",
    "              \n",
    "               # dsi_vas = ds_vas.interp(lat=new_lat, lon=new_lon)\n",
    "               # dsi_uas = ds_uas.interp(lat=new_lat, lon=new_lon)\n",
    "    \n",
    "                # For a for a rectangular grid the cosine of the latitude is proportional to the grid cell area.\n",
    "                area_ds_uas = ds_uas*np.cos(np.deg2rad(ds_uas[\"uas\"].y))\n",
    "                area_ds_vas = ds_vas*np.cos(np.deg2rad(ds_vas[\"vas\"].y))\n",
    "            \n",
    "                proj=ccrs.PlateCarree() # ccrs.Orthographic(-10, 90)\n",
    "                uv=(np.sqrt(area_ds_uas[\"uas\"].isel(time=selected_time)**2+area_ds_vas[\"vas\"].isel(time=selected_time)**2)/2.)\n",
    "                if show_plot:\n",
    "                    ax = plt.axes(projection=proj)\n",
    "                    uv.plot.contourf(ax=ax, transform=ccrs.PlateCarree())\n",
    "                    ax.add_feature(cfeature.LAND)\n",
    "                    ax.add_feature(cfeature.COASTLINE)\n",
    "                    ax.set_global()\n",
    "                    plt.show()\n",
    "                \n",
    "                wind=uv.values.T\n",
    "                m=len(wind[:,0])\n",
    "                n=len(wind[0,:])\n",
    "                month=4\n",
    "                    \n",
    "                all_zens=[]\n",
    "                all_OSA=[]\n",
    "                for hour_of_day in range(15,16,1):\n",
    "                    print(\"Running for hour {}\".format(hour_of_day))\n",
    "                    zen = [dask.delayed(calculate_zenith_angle)(uv.lat.values[i,j],\n",
    "                                 uv.lon.values[i,j],month,hour_of_day)\n",
    "                                 for i in range(m) \n",
    "                                  for j in range(n)]\n",
    "\n",
    "                    zeniths = dask.compute(zen)\n",
    "                    zens = np.asarray(zeniths).reshape((m, n))\n",
    "                    \n",
    "                    all_zens.append(zens)\n",
    "                    \n",
    "                    chl=0.2\n",
    "\n",
    "                    zr = [dask.delayed(calculate_OSA)(zens[i,j], wind[i,j], chl, wavelengths, refractive_indexes, \n",
    "                                                    alpha_chl, alpha_w, beta_w, alpha_wc, solar_energy) \n",
    "                                  for i in range(m) \n",
    "                                  for j in range(n)]\n",
    "\n",
    "                    z = dask.compute(zr)\n",
    "                    print(\"Median albedo for  direct light {}\".format(np.median(z)))\n",
    "\n",
    "                    OSA_direct_broadband = np.array(z).reshape((m, n))\n",
    "                    print(\"Time to finish {} with mean OSA {}\".format(datetime.datetime.now()-startdate,\n",
    "                          np.mean(OSA_direct_broadband)))\n",
    "                    \n",
    "                    all_OSA.append(OSA_direct_broadband)\n",
    "                    \n",
    "                \n",
    "                zens=np.mean(np.asarray(all_zens),axis=0)\n",
    "                OSA_direct_broadband=np.mean(np.asarray(all_OSA),axis=0)\n",
    "                \n",
    "             #   OSA_direct_broadband, lon = add_cyclic_point(OSA_direct_broadband, coord=uv.lon.values)\n",
    "                \n",
    "                ax3 = plt.axes(projection=proj)\n",
    "                levels=np.arange(0,0.1,0.001)\n",
    "                plt.contourf(uv.lon.values,uv.lat.values,OSA_direct_broadband,\n",
    "                             transform=ccrs.PlateCarree(),\n",
    "                             cmap='nipy_spectral',zorder=2)\n",
    "               \n",
    "                ax3.add_feature(cfeature.LAND)\n",
    "                ax3.add_feature(cfeature.OCEAN)\n",
    "                ax3.add_feature(cfeature.COASTLINE)\n",
    "                ax3.add_feature(cfeature.BORDERS, linestyle=':')\n",
    "              #  ax2.set_extent([-160, 50, 5, 90])\n",
    "                plt.colorbar()\n",
    "                \n",
    "                plt.show()\n",
    "\n",
    "\n",
    "              \n",
    "calculate_light(config_pices_obj)"
   ]
  },
  {
   "cell_type": "code",
   "execution_count": null,
   "metadata": {},
   "outputs": [
    {
     "name": "stderr",
     "output_type": "stream",
     "text": [
      "distributed.nanny - WARNING - Restarting worker\n",
      "distributed.nanny - WARNING - Restarting worker\n"
     ]
    }
   ],
   "source": [
    "client.close()"
   ]
  },
  {
   "cell_type": "code",
   "execution_count": null,
   "metadata": {},
   "outputs": [],
   "source": []
  },
  {
   "cell_type": "code",
   "execution_count": null,
   "metadata": {},
   "outputs": [],
   "source": []
  },
  {
   "cell_type": "code",
   "execution_count": null,
   "metadata": {},
   "outputs": [],
   "source": []
  }
 ],
 "metadata": {
  "kernelspec": {
   "display_name": "Python 3",
   "language": "python",
   "name": "python3"
  },
  "language_info": {
   "codemirror_mode": {
    "name": "ipython",
    "version": 3
   },
   "file_extension": ".py",
   "mimetype": "text/x-python",
   "name": "python",
   "nbconvert_exporter": "python",
   "pygments_lexer": "ipython3",
   "version": "3.7.4"
  }
 },
 "nbformat": 4,
 "nbformat_minor": 4
}
