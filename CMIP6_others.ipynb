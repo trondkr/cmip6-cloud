{
 "cells": [
  {
   "cell_type": "markdown",
   "metadata": {},
   "source": [
    "### CMIP6 Member and Grid\n",
    "\n",
    "```\n",
    " member_id:      code for ensemble member\n",
    " grid_label:     type of grid the data is on\n",
    "```         "
   ]
  },
  {
   "cell_type": "markdown",
   "metadata": {},
   "source": [
    "### member_id: a key constructed from 4 indices stored as global attributes:  \n",
    "\n",
    "``` \n",
    "member_id = r<k>i<l>p<m>f<n>\n",
    "    \n",
    "       where\n",
    "    \n",
    " k = realization_index\n",
    " l = initialization_index\n",
    " m = physics_index\n",
    " n = forcing_index\n",
    "```\n"
   ]
  },
  {
   "cell_type": "markdown",
   "metadata": {},
   "source": [
    "### grid_label: a key indicating if on native grid, regridded data, etc\n",
    "\n",
    "```\n",
    "Modeling groups may choose to report their output on the model’s native grid and/or regrid it to one or more target grids. To distinguish between output reported on different grids, a “grid_label” attribute is defined.\n",
    "\n",
    "The rules for assigning grid labels should make it easy for users to select (using the ESGF search tools) CMIP output that is on a grid considered by each\n",
    "modeling group to best represent its model -- the so-called “primary” grid. If output is reported on the native grid, this is always deemed the “primary”\n",
    "grid. If output is not reported on the native grid, then modeling groups should regrid the data to some primary grid of its choosing For the “primary”\n",
    "grid the following labels apply:\n",
    "\n",
    "grid_label = \"gn\" (output is reported on the native grid)\n",
    "grid_label = \"gr\" (output is not reported on the native grid, but instead is regridded by the modeling group to a “primary grid” of its choosing)\n",
    "grid_label = “gm” (global mean output is reported, so data are not gridded)\n",
    "\n",
    "As noted below sometimes a “z” or “a” or “g” is appended to the labels to indicate “zonal means” or grids limited to Antarctica or Greenland.\n",
    "If besides the “primary” grid, output is regridded to an additional grid, then for this output:\n",
    "grid_label = \"gr[i]\" (a “secondary” grid), where <i> should be replaced by a positive integer less than 10, which distinguishes this output from\n",
    "other regridded output.\n",
    "\n",
    "Note that:\n",
    "➢ If model output is reported on a native grid, then if regridded output is also reported, it must not be labeled “gr”, but instead should be of the\n",
    "form gr[i] (e.g,, gr1, gr2, ….).\n",
    "➢ The grid label provides no information about the grid other than to indicate whether or not the data have been regridded (from the native grid)\n",
    "and whether or not the grid is considered to be a “primary” grid by the data provider.\n",
    "➢ Output for different variables may be reported on different grids, so “gn” and “gr” may not uniquely define a grid even within a single model.\n",
    "➢ If a variable is reported on more than one grid, one of these grids must be labeled “gn” or “gr” (as appropriate), and others must be labeled as\n",
    "secondary grids (“gr1”, “gr2”, etc.).\n",
    "➢ The grid labels (“gr1”, “gr2”, etc.) must be defined consistently for all variables reported from a single model on the same secondary grid. Thus,\n",
    "if “gr3” indicates output on a 2x2 degree grid for one variable, then the same label should be used for other variables output on this grid (unless\n",
    "for another variable output is considered to be primary, in which case the output would be labeled “gn” or “gr”, as appropriate).\n",
    "➢ Output on the same grid but from different models will usually not be labeled with the same grid_label, since data providers independently\n",
    "assign the labels.\n",
    "➢ A “nominal_resolution” attribute must be defined as specified in Appendix 2, and a brief description of the grid should be recorded in the “grid”\n",
    "global attribute (see note 10).\n",
    "➢ For zonal mean output, a “z” should be appended to the grid label that would apply before performing the zonal mean (e.g., \"gnz\", \"grz\", \"gr2z\").\n",
    "The \"gnz\" label would likely only be appropriate when zonally-averaging data on a native cartesian latxlon grid.\n",
    "➢ For “site” data the label \"gn\" should be used presuming data are obtained from the single native grid cell located nearest each site.\n",
    "➢ For “transport through a straight” (and the like), the grid label should reflect the grid relied on in calculating the transport (presumably the\n",
    "native grid would be best for this purpose, so “gn”).\n",
    "➢ For output reported only over the region centered on Greenland, “g” should be appended to the grid_label (e.g., “gng”, “grg”, “gr1g”). Similarly\n",
    "for output reported only over the region centered on Antarctica, “a” should be appended to the grid_label.\n",
    "```"
   ]
  },
  {
   "cell_type": "code",
   "execution_count": null,
   "metadata": {},
   "outputs": [],
   "source": []
  }
 ],
 "metadata": {
  "kernelspec": {
   "display_name": "pangeo-Jun2019",
   "language": "python",
   "name": "pangeojun2019"
  },
  "language_info": {
   "codemirror_mode": {
    "name": "ipython",
    "version": 3
   },
   "file_extension": ".py",
   "mimetype": "text/x-python",
   "name": "python",
   "nbconvert_exporter": "python",
   "pygments_lexer": "ipython3",
   "version": "3.6.7"
  }
 },
 "nbformat": 4,
 "nbformat_minor": 4
}
