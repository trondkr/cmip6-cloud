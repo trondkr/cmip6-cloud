{
 "cells": [
  {
   "cell_type": "markdown",
   "metadata": {},
   "source": [
    "## CMIP6 Models\n",
    " - `source_id` is the CMIP6 keyword for model\n",
    " - `model_component` also includes model resolution, see dump of all metadata in last cell"
   ]
  },
  {
   "cell_type": "code",
   "execution_count": null,
   "metadata": {},
   "outputs": [],
   "source": [
    "import pandas as pd\n",
    "import qgrid"
   ]
  },
  {
   "cell_type": "markdown",
   "metadata": {},
   "source": [
    "### The next cell opens a widget\n",
    "\n",
    "### You can:\n",
    "- click on the filter symbol at top of each column, enter text to search, or select checkbox(es)\n",
    "- click on column label to sort\n",
    "\n",
    "### You can also:\n",
    "- clear filter choices after you make them\n",
    "- reset whole widget by re-running the cell"
   ]
  },
  {
   "cell_type": "code",
   "execution_count": null,
   "metadata": {},
   "outputs": [],
   "source": [
    "df = pd.read_json('json/CMIP6_source_id.json').rename(columns = {'source_id':'other'}).reset_index()\n",
    "df = df.rename(columns = {'index':'source_id'})\n",
    "\n",
    "ddict = df.other.values.tolist()\n",
    "df = pd.DataFrame(ddict)\n",
    "\n",
    "keys_all = list(df.keys())\n",
    "keys_show = ['source_id','institution_id','release_year','atmos_model','ocean_model','land_model','ocnBgchem_model','aerosol_model','atmosChem_model','seaIce_model','landIce_model']\n",
    "keys_drop = list(set(keys_all) - set(keys_show))\n",
    "model_comps = df.model_component.values[0].keys()\n",
    "for comp in model_comps:\n",
    "    df[comp + '_model'] = [str[comp]['description'] for str in df.model_component]\n",
    "    \n",
    "df['institution_id'] = [str[0] for str in df['institution_id']]  \n",
    "df = df.drop(keys_drop,1).reindex(columns=keys_show)\n",
    "\n",
    "\n",
    "col_defs = {'index':{'width':10},'release_year':{'width':70}}\n",
    "widget = qgrid.show_grid(df, column_definitions = col_defs, column_options={'editable':False})\n",
    "widget"
   ]
  },
  {
   "cell_type": "code",
   "execution_count": null,
   "metadata": {},
   "outputs": [],
   "source": [
    "dfnew = widget.get_changed_df()\n",
    "dfnew.source_id.count()"
   ]
  },
  {
   "cell_type": "code",
   "execution_count": null,
   "metadata": {},
   "outputs": [],
   "source": [
    "# If the qgrid widget is not working, here is a \n",
    "# LIST OF ALL 119 source_ids\n",
    "import json\n",
    "\n",
    "with open('json/CMIP6_source_id.json') as f:\n",
    "      data = json.load(f)\n",
    "\n",
    "data1 = data['source_id']\n",
    "source_ids = list(data1.keys())\n",
    "\n",
    "for item,source_id in enumerate(source_ids):\n",
    "    keys = list(data1[source_id].keys())\n",
    "    print(item+1,'\\b.', source_id,':')\n",
    "    for key in keys:\n",
    "        print('\\t',key,':',data1[source_id][key])\n",
    "    print()"
   ]
  },
  {
   "cell_type": "code",
   "execution_count": null,
   "metadata": {},
   "outputs": [],
   "source": []
  }
 ],
 "metadata": {
  "kernelspec": {
   "display_name": "pangeo-Jun2019",
   "language": "python",
   "name": "pangeojun2019"
  },
  "language_info": {
   "codemirror_mode": {
    "name": "ipython",
    "version": 3
   },
   "file_extension": ".py",
   "mimetype": "text/x-python",
   "name": "python",
   "nbconvert_exporter": "python",
   "pygments_lexer": "ipython3",
   "version": "3.6.7"
  }
 },
 "nbformat": 4,
 "nbformat_minor": 4
}
