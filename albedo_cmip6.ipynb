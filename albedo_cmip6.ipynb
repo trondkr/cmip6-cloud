{
 "cells": [
  {
   "cell_type": "code",
   "execution_count": 42,
   "metadata": {},
   "outputs": [
    {
     "name": "stdout",
     "output_type": "stream",
     "text": [
      "Requirement already satisfied: nc-time-axis in /opt/conda/lib/python3.7/site-packages (1.2.0)\n",
      "Requirement already satisfied: matplotlib in /opt/conda/lib/python3.7/site-packages (from nc-time-axis) (3.1.3)\n",
      "Requirement already satisfied: cftime in /opt/conda/lib/python3.7/site-packages (from nc-time-axis) (1.1.1.2)\n",
      "Requirement already satisfied: numpy in /opt/conda/lib/python3.7/site-packages (from nc-time-axis) (1.18.1)\n",
      "Requirement already satisfied: six in /opt/conda/lib/python3.7/site-packages (from nc-time-axis) (1.14.0)\n",
      "Requirement already satisfied: kiwisolver>=1.0.1 in /opt/conda/lib/python3.7/site-packages (from matplotlib->nc-time-axis) (1.1.0)\n",
      "Requirement already satisfied: pyparsing!=2.0.4,!=2.1.2,!=2.1.6,>=2.0.1 in /opt/conda/lib/python3.7/site-packages (from matplotlib->nc-time-axis) (2.4.6)\n",
      "Requirement already satisfied: python-dateutil>=2.1 in /opt/conda/lib/python3.7/site-packages (from matplotlib->nc-time-axis) (2.8.0)\n",
      "Requirement already satisfied: cycler>=0.10 in /opt/conda/lib/python3.7/site-packages (from matplotlib->nc-time-axis) (0.10.0)\n",
      "Requirement already satisfied: setuptools in /opt/conda/lib/python3.7/site-packages (from kiwisolver>=1.0.1->matplotlib->nc-time-axis) (45.1.0.post20200119)\n"
     ]
    }
   ],
   "source": [
    "import math\n",
    "import matplotlib.pyplot as plt\n",
    "import pandas as pd\n",
    "import numpy as np\n",
    "import sys\n",
    "# Computational modules\n",
    "import zarr\n",
    "import dask\n",
    "import numpy as np\n",
    "import pandas as pd\n",
    "import xarray as xr\n",
    "import gcsfs\n",
    "import cartopy.crs as ccrs\n",
    "from datetime import datetime\n",
    "# Maps   \n",
    "import cartopy.io.shapereader as shpreader\n",
    "import cartopy.crs as ccrs\n",
    "import cartopy.feature as cfeature\n",
    "import rioxarray\n",
    "import geopandas as gpd\n",
    "from shapely.geometry import box, mapping\n",
    "\n",
    "#!{sys.executable} -m pip install --user cmip6_preprocessing\n",
    "!{sys.executable} -m pip install --user nc-time-axis\n",
    "# Local files and utility functions\n",
    "sys.path.append(\"./subroutines/\")\n",
    "import pices\n",
    "np.seterr(divide='ignore', invalid='ignore')\n",
    "get_ipython().run_line_magic(\"matplotlib\", \"inline\")\n",
    "plt.rcParams[\"figure.figsize\"] = 12, 6\n",
    "get_ipython().run_line_magic(\"config\", \"InlineBackend.figure_format = 'retina'\")"
   ]
  },
  {
   "cell_type": "code",
   "execution_count": 2,
   "metadata": {},
   "outputs": [
    {
     "data": {
      "text/html": [
       "<table style=\"border: 2px solid white;\">\n",
       "<tr>\n",
       "<td style=\"vertical-align: top; border: 0px solid white\">\n",
       "<h3 style=\"text-align: left;\">Client</h3>\n",
       "<ul style=\"text-align: left; list-style: none; margin: 0; padding: 0;\">\n",
       "  <li><b>Scheduler: </b>tcp://127.0.0.1:41865</li>\n",
       "  <li><b>Dashboard: </b><a href='/user/trondkr/proxy/8787/status' target='_blank'>/user/trondkr/proxy/8787/status</a>\n",
       "</ul>\n",
       "</td>\n",
       "<td style=\"vertical-align: top; border: 0px solid white\">\n",
       "<h3 style=\"text-align: left;\">Cluster</h3>\n",
       "<ul style=\"text-align: left; list-style:none; margin: 0; padding: 0;\">\n",
       "  <li><b>Workers: </b>4</li>\n",
       "  <li><b>Cores: </b>16</li>\n",
       "  <li><b>Memory: </b>63.33 GB</li>\n",
       "</ul>\n",
       "</td>\n",
       "</tr>\n",
       "</table>"
      ],
      "text/plain": [
       "<Client: 'tcp://127.0.0.1:41865' processes=4 threads=16, memory=63.33 GB>"
      ]
     },
     "execution_count": 2,
     "metadata": {},
     "output_type": "execute_result"
    }
   ],
   "source": [
    "from dask.distributed import Client, progress\n",
    "client = Client(\"tcp://127.0.0.1:41865\") \n",
    "client"
   ]
  },
  {
   "cell_type": "code",
   "execution_count": 40,
   "metadata": {},
   "outputs": [
    {
     "name": "stdout",
     "output_type": "stream",
     "text": [
      "Running historical query on data: \n",
      " ==> source_id=='CanESM5'and table_id=='Amon' and grid_label=='gn' and experiment_id=='historical' and variable_id=='uas'\n",
      "\n",
      "Running projections query on data: \n",
      " ==> source_id=='CanESM5'and table_id=='Amon' and member_id=='r1i1p1f1' and grid_label=='gn' and experiment_id=='ssp585' and variable_id=='uas'\n",
      "\n",
      "CanESM5 => Dates extracted range from 1950-01-16 12:00:00 to 2100-07-16 12:00:00\n",
      "\n",
      "Running historical query on data: \n",
      " ==> source_id=='CanESM5'and table_id=='Amon' and grid_label=='gn' and experiment_id=='historical' and variable_id=='vas'\n",
      "\n",
      "Running projections query on data: \n",
      " ==> source_id=='CanESM5'and table_id=='Amon' and member_id=='r1i1p1f1' and grid_label=='gn' and experiment_id=='ssp585' and variable_id=='vas'\n",
      "\n",
      "CanESM5 => Dates extracted range from 1950-01-16 12:00:00 to 2100-07-16 12:00:00\n",
      "\n"
     ]
    }
   ],
   "source": [
    "class Config_pices():\n",
    "    df = pd.read_csv(\n",
    "    \"https://storage.googleapis.com/cmip6/cmip6-zarr-consolidated-stores.csv\"\n",
    ")\n",
    "    fs = gcsfs.GCSFileSystem(token=\"anon\", access=\"read_only\")\n",
    "   \n",
    "    grid_labels = [\"gn\"]  # Can be gr=grid rotated, or gn=grid native\n",
    "    member_ids = [\"r1i1p1f1\"]  #\n",
    "    experiment_ids = [\"ssp585\"]  #'abrupt-4xCO2',\n",
    "    source_ids = [\"CanESM5\"]\n",
    "    variable_ids = [\"uas\",\"vas\"]\n",
    "    table_ids = [\"Amon\",\"Amon\"]  # Amon=atmospheric variables, Omon=Ocean variables, SImon=sea-ice variables\n",
    "    dset_dict = {}\n",
    "    start_date=\"1950-01-01\"\n",
    "    end_date=\"2100-08-01\"\n",
    "    clim_start=\"1961-01-01\"\n",
    "    clim_end=\"1990-01-01\"\n",
    "    \n",
    "    selected_depth=0\n",
    "  \n",
    "# Create the object\n",
    "config_pices_obj = Config_pices()\n",
    "config_pices_obj = pices.get_and_organize_cmip6_data(config_pices_obj)"
   ]
  },
  {
   "cell_type": "code",
   "execution_count": 28,
   "metadata": {},
   "outputs": [],
   "source": [
    "# Following Roland Seferian, equation 3\n",
    "# https://www.geosci-model-dev.net/11/321/2018/gmd-11-321-2018.pdf\n",
    "\n",
    "def calculate_alpha_dir(n_lambda,µ):\n",
    "    a = np.sqrt(1.0 - (1.0 - µ**2)/n_lambda**2)\n",
    "    b = ((a-n_lambda*µ)/(a+n_lambda*µ))**2    \n",
    "    c = ((µ-n_lambda*a)/(µ+n_lambda*a))**2\n",
    "\n",
    "    return 0.5*(b+c)"
   ]
  },
  {
   "cell_type": "code",
   "execution_count": 29,
   "metadata": {},
   "outputs": [],
   "source": [
    "def whitecap(µ, σ):\n",
    "    return (0.0152-1.7873*µ + 6.8972*(µ**2)-8.5778*(µ**3)+ 4.071*σ-7.6446*µ*σ) * np.exp(0.1643-7.8409*µ-3.5639*µ**2-2.3588*σ+10.054*µ*σ)"
   ]
  },
  {
   "cell_type": "code",
   "execution_count": 30,
   "metadata": {},
   "outputs": [],
   "source": [
    "def calculate_diffuse_reflection(n_λ,σ):\n",
    "    return -0.1479 + 0.1502*n_λ-0.0176*n_λ*σ"
   ]
  },
  {
   "cell_type": "code",
   "execution_count": 31,
   "metadata": {},
   "outputs": [],
   "source": [
    "def calculate_direct_reflection(n_λ,µ,σ):\n",
    "    f_0 = calculate_alpha_dir(1.34,µ)\n",
    "    f_λ = calculate_alpha_dir(n_λ,µ)\n",
    "    \n",
    "    return f_λ - (whitecap(µ, σ)*f_λ/f_0)"
   ]
  },
  {
   "cell_type": "code",
   "execution_count": 32,
   "metadata": {},
   "outputs": [],
   "source": [
    "def calculate_direct_reflection_from_chl(λ, chl, alpha_chl, alpha_w, beta_w, σ, µ, alpha_direct):\n",
    "   \n",
    "    rw=0.48168549-0.014894708*σ-0.20703885*σ**2\n",
    " \n",
    "    # Determine absorption and backscattering\n",
    "    # coefficients to determine reflectance below the surface (Ro) once for all\n",
    "    a_bp = 0.06*alpha_chl*chl**0.65 + 0.2*(0.00635+0.06*(chl**0.65))*np.exp(0.014*(440.-λ))\n",
    "   \n",
    "    # Backscattering of biological pigment (b_chl) with λ expressed here in nm and [Chl] in mg m−3. This\n",
    "    # formulation is valid for [Chl] ranging between 0.02 and 2 mg m−3 (Morel and Maritorena (2001))\n",
    "    # Equation 12 Roland Seferian, 2018\n",
    "    b_chl=(0.416*chl**0.766)*(0.002+0.01*(0.5-0.25*np.log(chl))*(λ/550.0)**(0.5*(np.log(chl)-0.3)))\n",
    "   \n",
    "    # # Use Morel 91 formula to compute the direct reflectance below the surface (Morel-Gentili(1991), Eq (12))\n",
    "    n=0.5*beta_w/(0.5*beta_w + b_chl)\n",
    "   \n",
    "    # Equation 11 Roland Seferian, 2018\n",
    "    beta = 0.6279-0.2227*n-0.0513*n**2 +(0.2465*n - 0.3119)*µ\n",
    "    \n",
    "    # Equation 10 Roland Seferian, 2018\n",
    "    R0 = beta * (0.5*beta_w + b_chl)/(alpha_w + a_bp)\n",
    "   \n",
    "    # Water leaving albedo, equation 8 Roland Seferian, 2018\n",
    "    return (((1.0-rw)*R0)/(1-rw*R0))*(1-alpha_direct)"
   ]
  },
  {
   "cell_type": "code",
   "execution_count": 33,
   "metadata": {},
   "outputs": [],
   "source": [
    "def calculate_diffuse_reflection_from_chl(λ, chl, alpha_chl, alpha_w, beta_w, σ, alpha_direct):\n",
    "    #  In the case of ocean interior reflectance for direct incoming radiation it depends on µ = cos(θ) whereas in the\n",
    "    # case of ocean interior reflectance for diffuse µ = 0.676. This value is considered an effective angle of incoming radiation of 47.47◦\n",
    "    # according to Morel and Gentili (1991). Hence\n",
    "    return calculate_direct_reflection_from_chl(λ, chl, alpha_chl, alpha_w, beta_w, σ, np.arccos(0.676), alpha_direct)"
   ]
  },
  {
   "cell_type": "code",
   "execution_count": 56,
   "metadata": {},
   "outputs": [],
   "source": [
    "def calculate_spectral_and_broadband_OSA(wind,alpha_wc,alpha_direct,alpha_diffuse,alpha_direct_chl,alpha_diffuse_chl,solar_energy):\n",
    "    # ocean surface albedo - OSA\n",
    "    wc = 0.0397*wind**1.59\n",
    "    OSA_direct = (alpha_direct + alpha_direct_chl) * (1-wc) + wc*alpha_wc\n",
    "    OSA_diffuse = (alpha_diffuse + alpha_diffuse_chl) * (1-wc) + wc*alpha_wc\n",
    "    \n",
    "    # Integrate across all wavelengths 200-4000nm at 10 nm wavelength bands and then weight by the solar energy at each band\n",
    "    OSA_direct_broadband = np.sum(OSA_direct*solar_energy)/np.sum(solar_energy)\n",
    "    OSA_diffuse_broadband = np.sum(OSA_diffuse*solar_energy)/np.sum(solar_energy)\n",
    "  \n",
    "    return OSA_direct_broadband \n",
    "  #  print(\"calculate_spectral_and_broadband_OSA: {} {}\".format(OSA_direct_broadband,OSA_diffuse_broadband))"
   ]
  },
  {
   "cell_type": "code",
   "execution_count": 57,
   "metadata": {},
   "outputs": [],
   "source": [
    "def calculate_OSA(latitude, uv, chl, wavelengths, refractive_indexes, alpha_chl, alpha_w, beta_w, alpha_wc, solar_energy):\n",
    "    \n",
    "    # Solar zenith angle\n",
    "    µ = np.cos(np.radians(latitude))\n",
    "    # wind is wind at 10 m height (m/s)\n",
    "    σ = np.sqrt(0.003+0.00512*uv)\n",
    "                \n",
    "    # Vectorize the functions\n",
    "    vec_calculate_direct_reflection=np.vectorize(calculate_direct_reflection)\n",
    "    vec_calculate_diffuse_reflection=np.vectorize(calculate_diffuse_reflection)\n",
    "    vec_calculate_direct_reflection_from_chl=np.vectorize(calculate_direct_reflection_from_chl)\n",
    "    vec_calculate_diffuse_reflection_from_chl=np.vectorize(calculate_diffuse_reflection_from_chl)\n",
    "\n",
    "    # Direct reflection\n",
    "    alpha_direct = vec_calculate_direct_reflection(refractive_indexes,µ,σ)\n",
    "\n",
    "    # Diffuse reflection\n",
    "    alpha_diffuse = vec_calculate_diffuse_reflection(refractive_indexes,σ)\n",
    "\n",
    "    # Reflectrion from chlorophyll and biological pigments\n",
    "    alpha_direct_chl = vec_calculate_direct_reflection_from_chl(wavelengths, chl, alpha_chl, alpha_w, beta_w, σ, µ, alpha_direct)\n",
    "\n",
    "    # Diffuse reflection interior of water from chlorophyll\n",
    "    alpha_diffuse_chl = vec_calculate_diffuse_reflection_from_chl(wavelengths, chl, alpha_chl, alpha_w, beta_w, σ, alpha_direct)\n",
    "\n",
    "    # OSA\n",
    "    return calculate_spectral_and_broadband_OSA(uv,alpha_wc,alpha_direct,alpha_diffuse,alpha_direct_chl,alpha_diffuse_chl,solar_energy)"
   ]
  },
  {
   "cell_type": "code",
   "execution_count": 58,
   "metadata": {},
   "outputs": [],
   "source": [
    "def setup_parameters():\n",
    "    df=pd.read_csv(\"data/Wavelength/Fresnels_refraction.csv\", header=0, sep=\";\", decimal=\",\")\n",
    "    wavelengths=df[\"λ\"].values\n",
    "    refractive_indexes=df[\"n(λ)\"].values\n",
    "    alpha_chl=df[\"a_chl(λ)\"].values\n",
    "    alpha_w=df[\"a_w(λ)\"].values\n",
    "    beta_w=df[\"b_w(λ)\"].values\n",
    "    alpha_wc=df[\"a_wc(λ)\"].values\n",
    "    solar_energy=df[\"E(λ)\"].values\n",
    "    return wavelengths, refractive_indexes, alpha_chl, alpha_w, beta_w, alpha_wc, solar_energy"
   ]
  },
  {
   "cell_type": "code",
   "execution_count": null,
   "metadata": {},
   "outputs": [
    {
     "name": "stdout",
     "output_type": "stream",
     "text": [
      "=> model: uas_ssp585_gn_CanESM5_r1i1p1f1 variable name: uas\n",
      "=> model: vas_ssp585_gn_CanESM5_r1i1p1f1 variable name: vas\n"
     ]
    }
   ],
   "source": [
    "def calculate_light(config_pices_obj):\n",
    "    \n",
    "    selected_time=0\n",
    "    show_plot=False\n",
    "    wavelengths, refractive_indexes, alpha_chl, alpha_w, beta_w, alpha_wc, solar_energy = setup_parameters()\n",
    "    startdate=datetime.now()\n",
    "    \n",
    "    for key in config_pices_obj.dset_dict.keys():\n",
    "        \n",
    "        var_name = key.split(\"_\")[0]\n",
    "        model_name = key.split(\"_\")[3]\n",
    "        \n",
    "        if var_name==\"uas\":\n",
    "            \n",
    "            key_v=\"vas\"+key[3:]\n",
    "            var_name_v = key_v.split(\"_\")[0]\n",
    "            model_name_v = key_v.split(\"_\")[3]\n",
    "            \n",
    "            print(\"=> model: {} variable name: {}\".format(key, var_name))\n",
    "            print(\"=> model: {} variable name: {}\".format(key_v, var_name_v))\n",
    "            \n",
    "            if model_name_v==model_name:\n",
    "                ds_uas=config_pices_obj.dset_dict[key]\n",
    "                ds_uas=ds_uas.sel(y=slice(0,90))\n",
    "                ds_vas=config_pices_obj.dset_dict[key_v]\n",
    "                ds_vas=ds_vas.sel(y=slice(0,90))\n",
    "                \n",
    "                # For a for a rectangular grid the cosine of the latitude is proportional to the grid cell area.\n",
    "                area_ds_uas = ds_uas*np.cos(np.deg2rad(ds_uas[\"uas\"].y))\n",
    "                area_ds_vas = ds_vas*np.cos(np.deg2rad(ds_vas[\"vas\"].y))\n",
    "            \n",
    "                \n",
    "                uv=(np.sqrt(area_ds_uas[\"uas\"].isel(time=selected_time)**2+area_ds_vas[\"vas\"].isel(time=selected_time)**2)/2.)\n",
    "                if show_plot:\n",
    "                    ax = plt.axes(projection=ccrs.Orthographic(-180, 35))\n",
    "                    uv.plot(ax=ax, transform=ccrs.PlateCarree())\n",
    "                    ax.coastlines();\n",
    "                    plt.show()\n",
    "                \n",
    "                wind=uv.values.T\n",
    "                \n",
    "                chl=1.00001\n",
    "                m=len(wind[:,0])\n",
    "                n=len(wind[0,:])\n",
    "                zr = [dask.delayed(calculate_OSA(uv.lat.values[i,j], wind[i,j], chl, wavelengths, refractive_indexes, \n",
    "                                                alpha_chl, alpha_w, beta_w, alpha_wc, solar_energy) \n",
    "                              for i in range(m) \n",
    "                              for j in range(n))]\n",
    "                \n",
    "                z = dask.compute(zr)\n",
    "             \n",
    "                OSA_direct_broadband = np.fliplr(np.array(z).reshape((m, n)))\n",
    "                print(\"Time to finish {}\".format(datetime.now()-startdate))\n",
    "                 \n",
    "                fig = plt.figure(figsize=(10, 5))\n",
    "                ax = plt.axes(projection=ccrs.Orthographic(-10, 90))\n",
    "                \n",
    "               \n",
    "                plt.contourf(uv.lon.values,uv.lat.values,OSA_direct_broadband, \n",
    "                             transform=ccrs.PlateCarree(),\n",
    "                             cmap='nipy_spectral')\n",
    "                plt.colorbar()\n",
    "                ax.coastlines()\n",
    "               # ax.set_global()\n",
    "                plt.show()\n",
    "                \n",
    "              \n",
    "calculate_light(config_pices_obj)"
   ]
  },
  {
   "cell_type": "code",
   "execution_count": null,
   "metadata": {},
   "outputs": [],
   "source": []
  },
  {
   "cell_type": "code",
   "execution_count": null,
   "metadata": {},
   "outputs": [],
   "source": []
  },
  {
   "cell_type": "code",
   "execution_count": null,
   "metadata": {},
   "outputs": [],
   "source": []
  }
 ],
 "metadata": {
  "kernelspec": {
   "display_name": "Python 3",
   "language": "python",
   "name": "python3"
  },
  "language_info": {
   "codemirror_mode": {
    "name": "ipython",
    "version": 3
   },
   "file_extension": ".py",
   "mimetype": "text/x-python",
   "name": "python",
   "nbconvert_exporter": "python",
   "pygments_lexer": "ipython3",
   "version": "3.7.4"
  }
 },
 "nbformat": 4,
 "nbformat_minor": 4
}
