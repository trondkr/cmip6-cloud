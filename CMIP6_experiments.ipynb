{
 "cells": [
  {
   "cell_type": "markdown",
   "metadata": {},
   "source": [
    "## CMIP6 Experiments\n",
    " - Tier 1,2,3,4  (choose Tier 1 experiments, if possible)\n",
    " - The `activity_id` tells you what kind of experiment it is (see CMIP6_activities.ipynb)"
   ]
  },
  {
   "cell_type": "code",
   "execution_count": null,
   "metadata": {},
   "outputs": [],
   "source": [
    "import pandas as pd\n",
    "import qgrid"
   ]
  },
  {
   "cell_type": "markdown",
   "metadata": {},
   "source": [
    "### The next cell opens a widget\n",
    "\n",
    "### You can:\n",
    "- click on the filter symbol at top of each column, enter text to search, or select checkbox(es)\n",
    "- click on column label to sort\n",
    "\n",
    "### You can also:\n",
    "- clear filter choices after you make them\n",
    "- reset whole widget by re-running the cell"
   ]
  },
  {
   "cell_type": "code",
   "execution_count": null,
   "metadata": {},
   "outputs": [],
   "source": [
    "df = pd.read_json('json/CMIP6_experiment_id.json').rename(columns = {'experiment_id':'other'}).reset_index()\n",
    "df = df.rename(columns = {'index':'experiment_id'})\n",
    "\n",
    "ddict = df.other.values.tolist()\n",
    "df = pd.DataFrame(ddict)\n",
    "\n",
    "keys_all = list(df.keys())\n",
    "keys_show = ['experiment_id','experiment','start_year','end_year','activity_id','tier','min_number_yrs_per_sim']\n",
    "keys_drop = list(set(keys_all) - set(keys_show))\n",
    "\n",
    "df = df.drop(keys_drop,1).reindex(columns=keys_show)\n",
    "df['activity_id'] = [str[0] for str in df['activity_id']]   # activity_id is a list, has 2 values in a very few cases - so not filterable in qgrid\n",
    "\n",
    "col_defs = {'index':{'width':10},'tier':{'width':10}, 'start_year':{'width':70},'end_year':{'width':70}, 'experiment':{'width':600}}\n",
    "widget = qgrid.show_grid(df, column_definitions=col_defs, column_options={'editable':False})\n",
    "widget"
   ]
  },
  {
   "cell_type": "code",
   "execution_count": null,
   "metadata": {},
   "outputs": [],
   "source": [
    "dfnew = widget.get_changed_df()\n",
    "dfnew.experiment_id.count()"
   ]
  },
  {
   "cell_type": "code",
   "execution_count": null,
   "metadata": {},
   "outputs": [],
   "source": [
    "# If the qgrid widget is not working, here is a \n",
    "# LIST OF ALL 296 experiment_ids  (see also https://rawgit.com/WCRP-CMIP/CMIP6_CVs/master/src/CMIP6_experiment_id.html)\n",
    "import json\n",
    "\n",
    "with open('json/CMIP6_experiment_id.json') as f:\n",
    "      data = json.load(f)\n",
    "\n",
    "data1 = data['experiment_id']\n",
    "experiment_ids = list(data1.keys())\n",
    "for item,experiment_id in enumerate(experiment_ids):\n",
    "    keys = list(data1[experiment_id].keys())\n",
    "    print(item+1,'\\b.', experiment_id,':')\n",
    "    for key in keys:\n",
    "        print('\\t',key,':',data1[experiment_id][key])\n",
    "    print()"
   ]
  }
 ],
 "metadata": {
  "kernelspec": {
   "display_name": "pangeo-Jun2019",
   "language": "python",
   "name": "pangeojun2019"
  },
  "language_info": {
   "codemirror_mode": {
    "name": "ipython",
    "version": 3
   },
   "file_extension": ".py",
   "mimetype": "text/x-python",
   "name": "python",
   "nbconvert_exporter": "python",
   "pygments_lexer": "ipython3",
   "version": "3.6.7"
  }
 },
 "nbformat": 4,
 "nbformat_minor": 4
}
